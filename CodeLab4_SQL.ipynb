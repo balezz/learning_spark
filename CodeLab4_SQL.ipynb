{
 "cells": [
  {
   "cell_type": "markdown",
   "metadata": {},
   "source": [
    "# Технологии обработки больших данных\n",
    "\n",
    "Занятие 4. Работа с SQL запросами в PySpark \n",
    "\n",
    "1. Запуск PySpark на локальной машине\n",
    "2. TempView - представления DataFrame\n",
    "3. Базовый синтаксис SQL\n",
    "4. Домашнее задание \n",
    "  \n",
    "**Рекомендованная литература:** Б.Форта. SQL за 10 минут."
   ]
  },
  {
   "cell_type": "markdown",
   "metadata": {},
   "source": [
    "![](img/spark_libs.png)"
   ]
  },
  {
   "cell_type": "markdown",
   "metadata": {},
   "source": [
    "### 1. Запуск PySpark на локальной машине"
   ]
  },
  {
   "cell_type": "markdown",
   "metadata": {},
   "source": [
    "! pip install pyspark"
   ]
  },
  {
   "cell_type": "code",
   "execution_count": 1,
   "metadata": {},
   "outputs": [
    {
     "name": "stderr",
     "output_type": "stream",
     "text": [
      "22/03/21 23:05:07 WARN Utils: Your hostname, calc resolves to a loopback address: 127.0.1.1; using 192.168.122.1 instead (on interface virbr0)\n",
      "22/03/21 23:05:07 WARN Utils: Set SPARK_LOCAL_IP if you need to bind to another address\n",
      "WARNING: An illegal reflective access operation has occurred\n",
      "WARNING: Illegal reflective access by org.apache.spark.unsafe.Platform (file:/home/user/ds/PycharmProjects/spark/venv/lib/python3.8/site-packages/pyspark/jars/spark-unsafe_2.12-3.2.1.jar) to constructor java.nio.DirectByteBuffer(long,int)\n",
      "WARNING: Please consider reporting this to the maintainers of org.apache.spark.unsafe.Platform\n",
      "WARNING: Use --illegal-access=warn to enable warnings of further illegal reflective access operations\n",
      "WARNING: All illegal access operations will be denied in a future release\n",
      "Using Spark's default log4j profile: org/apache/spark/log4j-defaults.properties\n",
      "Setting default log level to \"WARN\".\n",
      "To adjust logging level use sc.setLogLevel(newLevel). For SparkR, use setLogLevel(newLevel).\n",
      "22/03/21 23:05:08 WARN NativeCodeLoader: Unable to load native-hadoop library for your platform... using builtin-java classes where applicable\n"
     ]
    }
   ],
   "source": [
    "import pyspark\n",
    "\n",
    "from pyspark.sql import SparkSession\n",
    "spark = SparkSession.builder.master(\"local[*]\").getOrCreate()"
   ]
  },
  {
   "cell_type": "markdown",
   "metadata": {},
   "source": [
    "### 2. View - представления DataFrame"
   ]
  },
  {
   "cell_type": "markdown",
   "metadata": {},
   "source": [
    "**Columns**  \n",
    "\n",
    "Age - возраст (numeric)  \n",
    "Sex - пол (text: male, female)  \n",
    "Job - уровень рабочей квалификации (numeric: 0 - unskilled and non-resident, 1 - unskilled and resident, 2 - skilled, 3 - highly skilled)  \n",
    "Housing - жилье (text: own, rent, or free)  \n",
    "Saving accounts - накопления (text - little, moderate, quite rich, rich)  \n",
    "Checking account - средние траты (numeric, in DM - Deutsch Mark)  \n",
    "Credit amount - размер кредита (numeric, in DM)  \n",
    "Duration - срок кредита (numeric, in month)  \n",
    "Purpose - цель кредита (text: car, furniture/equipment, radio/TV, domestic appliances, repairs, education, business, vacation/others)"
   ]
  },
  {
   "cell_type": "code",
   "execution_count": 2,
   "metadata": {},
   "outputs": [
    {
     "data": {
      "text/plain": [
       "pyspark.sql.dataframe.DataFrame"
      ]
     },
     "execution_count": 2,
     "metadata": {},
     "output_type": "execute_result"
    }
   ],
   "source": [
    "DATA_PATH = 'sample_data/credit_data.csv'\n",
    "\n",
    "SCHEMA = \"id INT, Age INT, Sex STRING, Job INT, Housing STRING, Saving_accounts STRING, \\\n",
    "Checking_account STRING, Credit_amount INT, Duration INT, Purpose STRING\"\n",
    "\n",
    "df = spark.read.csv(DATA_PATH, schema=SCHEMA, header=True)\n",
    "type(df)"
   ]
  },
  {
   "cell_type": "code",
   "execution_count": 3,
   "metadata": {},
   "outputs": [],
   "source": [
    "df.createOrReplaceTempView(\"credit_table\")"
   ]
  },
  {
   "cell_type": "markdown",
   "metadata": {},
   "source": [
    "С помощью запросов SQL можно создавать новые представления DataFrame"
   ]
  },
  {
   "cell_type": "code",
   "execution_count": 4,
   "metadata": {
    "scrolled": true
   },
   "outputs": [
    {
     "name": "stdout",
     "output_type": "stream",
     "text": [
      "+---+---+------+\n",
      "| id|Age|   Sex|\n",
      "+---+---+------+\n",
      "|  0| 67|  male|\n",
      "|  1| 22|female|\n",
      "|  2| 49|  male|\n",
      "|  3| 45|  male|\n",
      "|  4| 53|  male|\n",
      "|  5| 35|  male|\n",
      "|  6| 53|  male|\n",
      "|  7| 35|  male|\n",
      "|  8| 61|  male|\n",
      "|  9| 28|  male|\n",
      "+---+---+------+\n",
      "only showing top 10 rows\n",
      "\n"
     ]
    }
   ],
   "source": [
    "sub_df = spark.sql(\"SELECT id, Age, Sex FROM credit_table \")\n",
    "sub_df.show(10)"
   ]
  },
  {
   "cell_type": "markdown",
   "metadata": {},
   "source": [
    "### 3. Базовый синтаксис SQL"
   ]
  },
  {
   "cell_type": "markdown",
   "metadata": {},
   "source": [
    "#### Извлечение отдельных столбцов"
   ]
  },
  {
   "cell_type": "code",
   "execution_count": 5,
   "metadata": {
    "scrolled": true
   },
   "outputs": [
    {
     "name": "stdout",
     "output_type": "stream",
     "text": [
      "+---+\n",
      "|Age|\n",
      "+---+\n",
      "| 67|\n",
      "| 22|\n",
      "| 49|\n",
      "| 45|\n",
      "| 53|\n",
      "+---+\n",
      "only showing top 5 rows\n",
      "\n"
     ]
    }
   ],
   "source": [
    "spark.sql(\"SELECT Age FROM credit_table \").show(5)"
   ]
  },
  {
   "cell_type": "markdown",
   "metadata": {},
   "source": [
    "#### Извлечение всех столбцов"
   ]
  },
  {
   "cell_type": "code",
   "execution_count": 6,
   "metadata": {
    "scrolled": true
   },
   "outputs": [
    {
     "name": "stdout",
     "output_type": "stream",
     "text": [
      "+---+---+------+---+-------+---------------+----------------+-------------+--------+-------------------+\n",
      "| id|Age|   Sex|Job|Housing|Saving_accounts|Checking_account|Credit_amount|Duration|            Purpose|\n",
      "+---+---+------+---+-------+---------------+----------------+-------------+--------+-------------------+\n",
      "|  0| 67|  male|  2|    own|             NA|          little|         1169|       6|           radio/TV|\n",
      "|  1| 22|female|  2|    own|         little|        moderate|         5951|      48|           radio/TV|\n",
      "|  2| 49|  male|  1|    own|         little|              NA|         2096|      12|          education|\n",
      "|  3| 45|  male|  2|   free|         little|          little|         7882|      42|furniture/equipment|\n",
      "|  4| 53|  male|  2|   free|         little|          little|         4870|      24|                car|\n",
      "+---+---+------+---+-------+---------------+----------------+-------------+--------+-------------------+\n",
      "only showing top 5 rows\n",
      "\n"
     ]
    }
   ],
   "source": [
    "spark.sql(\"SELECT * FROM credit_table \").show(5)"
   ]
  },
  {
   "cell_type": "markdown",
   "metadata": {},
   "source": [
    "#### Извлечение уникальных строк"
   ]
  },
  {
   "cell_type": "code",
   "execution_count": 7,
   "metadata": {},
   "outputs": [
    {
     "name": "stdout",
     "output_type": "stream",
     "text": [
      "+-------------------+\n",
      "|            Purpose|\n",
      "+-------------------+\n",
      "|          education|\n",
      "|           radio/TV|\n",
      "|    vacation/others|\n",
      "|domestic appliances|\n",
      "|                car|\n",
      "|           business|\n",
      "|            repairs|\n",
      "|furniture/equipment|\n",
      "+-------------------+\n",
      "\n"
     ]
    }
   ],
   "source": [
    "spark.sql(\"SELECT DISTINCT Purpose FROM credit_table \").show()"
   ]
  },
  {
   "cell_type": "markdown",
   "metadata": {},
   "source": [
    "#### Ограничение результатов запроса"
   ]
  },
  {
   "cell_type": "code",
   "execution_count": 8,
   "metadata": {
    "scrolled": true
   },
   "outputs": [
    {
     "name": "stdout",
     "output_type": "stream",
     "text": [
      "+---+---+------+---+-------+---------------+----------------+-------------+--------+-------------------+\n",
      "| id|Age|   Sex|Job|Housing|Saving_accounts|Checking_account|Credit_amount|Duration|            Purpose|\n",
      "+---+---+------+---+-------+---------------+----------------+-------------+--------+-------------------+\n",
      "|  0| 67|  male|  2|    own|             NA|          little|         1169|       6|           radio/TV|\n",
      "|  1| 22|female|  2|    own|         little|        moderate|         5951|      48|           radio/TV|\n",
      "|  2| 49|  male|  1|    own|         little|              NA|         2096|      12|          education|\n",
      "|  3| 45|  male|  2|   free|         little|          little|         7882|      42|furniture/equipment|\n",
      "|  4| 53|  male|  2|   free|         little|          little|         4870|      24|                car|\n",
      "+---+---+------+---+-------+---------------+----------------+-------------+--------+-------------------+\n",
      "\n"
     ]
    }
   ],
   "source": [
    "spark.sql(\"SELECT * FROM credit_table LIMIT 5\").show()"
   ]
  },
  {
   "cell_type": "markdown",
   "metadata": {},
   "source": [
    "#### Сортировка записей"
   ]
  },
  {
   "cell_type": "code",
   "execution_count": 9,
   "metadata": {},
   "outputs": [
    {
     "name": "stdout",
     "output_type": "stream",
     "text": [
      "+---+---+------+---+-------+---------------+----------------+-------------+--------+-------------------+\n",
      "| id|Age|   Sex|Job|Housing|Saving_accounts|Checking_account|Credit_amount|Duration|            Purpose|\n",
      "+---+---+------+---+-------+---------------+----------------+-------------+--------+-------------------+\n",
      "|234| 42|  male|  1|    own|         little|              NA|         1544|       4|           radio/TV|\n",
      "|943| 42|  male|  1|    own|         little|              NA|         1455|       4|                car|\n",
      "|527| 42|  male|  1|    own|         little|              NA|         1503|       4|           radio/TV|\n",
      "|734| 37|female|  2|    own|         little|              NA|         3380|       4|                car|\n",
      "|314| 29|  male|  1|    own|             NA|            rich|         1494|       4|                car|\n",
      "|837| 23|female|  1|   rent|         little|              NA|          601|       4|furniture/equipment|\n",
      "|430| 74|  male|  1|    own|         little|              NA|         3448|       5|           business|\n",
      "|102| 24|female|  2|    own|         little|              NA|          932|       6|           radio/TV|\n",
      "|196| 28|female|  2|    own|         little|              NA|         1382|       6|           radio/TV|\n",
      "|110| 31|  male|  2|    own|       moderate|        moderate|         1449|       6|           business|\n",
      "+---+---+------+---+-------+---------------+----------------+-------------+--------+-------------------+\n",
      "only showing top 10 rows\n",
      "\n"
     ]
    }
   ],
   "source": [
    "spark.sql(\"SELECT * FROM credit_table ORDER BY Duration\").show(10)"
   ]
  },
  {
   "cell_type": "code",
   "execution_count": 10,
   "metadata": {
    "scrolled": false
   },
   "outputs": [
    {
     "name": "stdout",
     "output_type": "stream",
     "text": [
      "+---+---+------+---+-------+---------------+----------------+-------------+--------+-------------------+\n",
      "| id|Age|   Sex|Job|Housing|Saving_accounts|Checking_account|Credit_amount|Duration|            Purpose|\n",
      "+---+---+------+---+-------+---------------+----------------+-------------+--------+-------------------+\n",
      "|837| 23|female|  1|   rent|         little|              NA|          601|       4|furniture/equipment|\n",
      "|943| 42|  male|  1|    own|         little|              NA|         1455|       4|                car|\n",
      "|314| 29|  male|  1|    own|             NA|            rich|         1494|       4|                car|\n",
      "|527| 42|  male|  1|    own|         little|              NA|         1503|       4|           radio/TV|\n",
      "|234| 42|  male|  1|    own|         little|              NA|         1544|       4|           radio/TV|\n",
      "|734| 37|female|  2|    own|         little|              NA|         3380|       4|                car|\n",
      "|430| 74|  male|  1|    own|         little|              NA|         3448|       5|           business|\n",
      "|725| 41|female|  1|    own|           rich|              NA|          250|       6|                car|\n",
      "|177| 52|  male|  2|    own|     quite rich|          little|          338|       6|           radio/TV|\n",
      "|458| 27|female|  2|    own|         little|          little|          343|       6|domestic appliances|\n",
      "+---+---+------+---+-------+---------------+----------------+-------------+--------+-------------------+\n",
      "only showing top 10 rows\n",
      "\n"
     ]
    }
   ],
   "source": [
    "# Few columns sorting\n",
    "spark.sql(\"SELECT * FROM credit_table ORDER BY Duration, Credit_amount\").show(10)"
   ]
  },
  {
   "cell_type": "markdown",
   "metadata": {},
   "source": [
    "#### Сортировка по положению столбца"
   ]
  },
  {
   "cell_type": "code",
   "execution_count": 11,
   "metadata": {},
   "outputs": [
    {
     "name": "stdout",
     "output_type": "stream",
     "text": [
      "+---+---+------+---+-------+---------------+----------------+-------------+--------+-------------------+\n",
      "| id|Age|   Sex|Job|Housing|Saving_accounts|Checking_account|Credit_amount|Duration|            Purpose|\n",
      "+---+---+------+---+-------+---------------+----------------+-------------+--------+-------------------+\n",
      "|391| 19|female|  1|   rent|           rich|        moderate|          983|      12|furniture/equipment|\n",
      "|633| 19|female|  2|   rent|         little|              NA|         1980|       9|furniture/equipment|\n",
      "|155| 20|female|  2|   rent|         little|          little|         1282|      12|furniture/equipment|\n",
      "|296| 20|female|  2|   rent|             NA|              NA|         4675|      12|                car|\n",
      "|410| 20|female|  2|    own|         little|        moderate|         1967|      24|           radio/TV|\n",
      "|420| 20|female|  2|   rent|           rich|              NA|         3186|      15|                car|\n",
      "|585| 20|female|  2|   rent|         little|          little|         2039|      18|furniture/equipment|\n",
      "|593| 20|female|  1|   rent|         little|        moderate|         2718|      24|                car|\n",
      "|865| 20|female|  2|   rent|     quite rich|              NA|         2221|      15|furniture/equipment|\n",
      "|167| 20|female|  2|    own|           rich|        moderate|         1577|      11|furniture/equipment|\n",
      "| 93| 20|  male|  2|   rent|             NA|            rich|         3617|      24|furniture/equipment|\n",
      "|428| 20|  male|  2|    own|         little|              NA|         1313|       9|furniture/equipment|\n",
      "|495| 20|  male|  2|    own|             NA|          little|         2996|      24|furniture/equipment|\n",
      "|188| 20|  male|  2|    own|       moderate|          little|          674|      12|           radio/TV|\n",
      "|513| 20|  male|  2|   rent|         little|        moderate|          585|      12|           radio/TV|\n",
      "|905| 20|  male|  3|   rent|         little|          little|         1107|      12|           radio/TV|\n",
      "|134| 21|female|  2|    own|       moderate|              NA|        10144|      60|           radio/TV|\n",
      "|386| 21|female|  2|   rent|             NA|              NA|         1126|      18|           radio/TV|\n",
      "|618| 21|female|  2|   rent|       moderate|        moderate|         3441|      30|furniture/equipment|\n",
      "|724| 21|female|  2|   rent|         little|              NA|         2570|      27|                car|\n",
      "+---+---+------+---+-------+---------------+----------------+-------------+--------+-------------------+\n",
      "only showing top 20 rows\n",
      "\n"
     ]
    }
   ],
   "source": [
    "spark.sql(\"SELECT * FROM credit_table ORDER BY 2, 3\").show()"
   ]
  },
  {
   "cell_type": "markdown",
   "metadata": {},
   "source": [
    "####  Направления сортировки"
   ]
  },
  {
   "cell_type": "code",
   "execution_count": 12,
   "metadata": {},
   "outputs": [
    {
     "name": "stdout",
     "output_type": "stream",
     "text": [
      "+---+---+------+---+-------+---------------+----------------+-------------+--------+---------------+\n",
      "| id|Age|   Sex|Job|Housing|Saving_accounts|Checking_account|Credit_amount|Duration|        Purpose|\n",
      "+---+---+------+---+-------+---------------+----------------+-------------+--------+---------------+\n",
      "|677| 24|  male|  2|    own|       moderate|        moderate|         5595|      72|       radio/TV|\n",
      "|938| 42|  male|  2|   free|         little|        moderate|         6288|      60|      education|\n",
      "|255| 27|  male|  1|    own|             NA|        moderate|         7418|      60|       radio/TV|\n",
      "|332| 24|female|  3|    own|       moderate|        moderate|         7408|      60|            car|\n",
      "|672| 42|  male|  3|    own|         little|              NA|        10366|      60|            car|\n",
      "|373| 63|  male|  3|   free|             NA|              NA|        13756|      60|            car|\n",
      "|134| 21|female|  2|    own|       moderate|              NA|        10144|      60|       radio/TV|\n",
      "|374| 60|female|  3|   free|       moderate|        moderate|        14782|      60|vacation/others|\n",
      "|714| 27|  male|  3|    own|         little|        moderate|        14027|      60|            car|\n",
      "| 29| 63|  male|  2|    own|         little|          little|         6836|      60|       business|\n",
      "+---+---+------+---+-------+---------------+----------------+-------------+--------+---------------+\n",
      "only showing top 10 rows\n",
      "\n"
     ]
    }
   ],
   "source": [
    "spark.sql(\"SELECT * FROM credit_table ORDER BY Duration DESC\").show(10)"
   ]
  },
  {
   "cell_type": "code",
   "execution_count": 13,
   "metadata": {},
   "outputs": [
    {
     "name": "stdout",
     "output_type": "stream",
     "text": [
      "+---+---+------+---+-------+---------------+----------------+-------------+--------+---------------+\n",
      "| id|Age|   Sex|Job|Housing|Saving_accounts|Checking_account|Credit_amount|Duration|        Purpose|\n",
      "+---+---+------+---+-------+---------------+----------------+-------------+--------+---------------+\n",
      "|915| 32|female|  3|    own|         little|        moderate|        18424|      48|vacation/others|\n",
      "| 95| 58|  male|  2|   rent|         little|        moderate|        15945|      54|       business|\n",
      "|818| 43|  male|  3|    own|         little|          little|        15857|      36|vacation/others|\n",
      "|887| 23|  male|  2|    own|         little|        moderate|        15672|      48|       business|\n",
      "|637| 21|  male|  2|    own|         little|              NA|        15653|      60|       radio/TV|\n",
      "|917| 68|  male|  3|    own|         little|          little|        14896|       6|            car|\n",
      "|374| 60|female|  3|   free|       moderate|        moderate|        14782|      60|vacation/others|\n",
      "|236| 23|  male|  0|    own|             NA|        moderate|        14555|       6|            car|\n",
      "| 63| 25|  male|  2|    own|         little|        moderate|        14421|      48|       business|\n",
      "|378| 57|  male|  3|   free|         little|        moderate|        14318|      36|            car|\n",
      "+---+---+------+---+-------+---------------+----------------+-------------+--------+---------------+\n",
      "only showing top 10 rows\n",
      "\n"
     ]
    }
   ],
   "source": [
    "spark.sql(\"SELECT * FROM credit_table ORDER BY Credit_amount DESC, Duration \").show(10)"
   ]
  },
  {
   "cell_type": "markdown",
   "metadata": {},
   "source": [
    "#### Фильтрация данных WHERE"
   ]
  },
  {
   "cell_type": "code",
   "execution_count": 16,
   "metadata": {
    "scrolled": true
   },
   "outputs": [
    {
     "name": "stdout",
     "output_type": "stream",
     "text": [
      "+---+---+------+---+-------+---------------+----------------+-------------+--------+-------+\n",
      "| id|Age|   Sex|Job|Housing|Saving_accounts|Checking_account|Credit_amount|Duration|Purpose|\n",
      "+---+---+------+---+-------+---------------+----------------+-------------+--------+-------+\n",
      "|  4| 53|  male|  2|   free|         little|          little|         4870|      24|    car|\n",
      "|  7| 35|  male|  3|   rent|         little|        moderate|         6948|      36|    car|\n",
      "|  9| 28|  male|  3|    own|         little|        moderate|         5234|      30|    car|\n",
      "| 10| 25|female|  2|   rent|         little|        moderate|         1295|      12|    car|\n",
      "| 13| 60|  male|  1|    own|         little|          little|         1199|      24|    car|\n",
      "| 14| 28|female|  2|   rent|         little|          little|         1403|      15|    car|\n",
      "| 18| 44|female|  3|   free|         little|        moderate|        12579|      24|    car|\n",
      "| 20| 48|  male|  2|    own|         little|              NA|         2134|       9|    car|\n",
      "| 22| 48|  male|  1|   rent|         little|          little|         2241|      10|    car|\n",
      "| 23| 44|  male|  2|    own|       moderate|        moderate|         1804|      12|    car|\n",
      "+---+---+------+---+-------+---------------+----------------+-------------+--------+-------+\n",
      "only showing top 10 rows\n",
      "\n"
     ]
    }
   ],
   "source": [
    "spark.sql(\"SELECT * FROM credit_table WHERE Purpose = 'car' \").show(10)"
   ]
  },
  {
   "cell_type": "markdown",
   "metadata": {},
   "source": [
    "#### Операторы WHERE  "
   ]
  },
  {
   "cell_type": "code",
   "execution_count": 18,
   "metadata": {},
   "outputs": [],
   "source": [
    "#  =  Равенство\n",
    "#  <> Неравенство\n",
    "#  != Неравенство\n",
    "#  <  Меньше\n",
    "#  <= Меньше или равно\n",
    "#  !< Не меньше\n",
    "#  >  Больше\n",
    "#  >= Больше или равно\n",
    "#  !> Не больше\n",
    "#  BETWEEN Вхождение в диапазон\n",
    "#  IS NULL Значение NULL"
   ]
  },
  {
   "cell_type": "code",
   "execution_count": 19,
   "metadata": {},
   "outputs": [
    {
     "name": "stdout",
     "output_type": "stream",
     "text": [
      "+---+---+------+---+-------+---------------+----------------+-------------+--------+-------------------+\n",
      "| id|Age|   Sex|Job|Housing|Saving_accounts|Checking_account|Credit_amount|Duration|            Purpose|\n",
      "+---+---+------+---+-------+---------------+----------------+-------------+--------+-------------------+\n",
      "|  0| 67|  male|  2|    own|             NA|          little|         1169|       6|           radio/TV|\n",
      "|  1| 22|female|  2|    own|         little|        moderate|         5951|      48|           radio/TV|\n",
      "|  2| 49|  male|  1|    own|         little|              NA|         2096|      12|          education|\n",
      "|  6| 53|  male|  2|    own|     quite rich|              NA|         2835|      24|furniture/equipment|\n",
      "|  7| 35|  male|  3|   rent|         little|        moderate|         6948|      36|                car|\n",
      "|  8| 61|  male|  1|    own|           rich|              NA|         3059|      12|           radio/TV|\n",
      "|  9| 28|  male|  3|    own|         little|        moderate|         5234|      30|                car|\n",
      "| 10| 25|female|  2|   rent|         little|        moderate|         1295|      12|                car|\n",
      "| 11| 24|female|  2|   rent|         little|          little|         4308|      48|           business|\n",
      "| 12| 22|female|  2|    own|         little|        moderate|         1567|      12|           radio/TV|\n",
      "+---+---+------+---+-------+---------------+----------------+-------------+--------+-------------------+\n",
      "only showing top 10 rows\n",
      "\n"
     ]
    }
   ],
   "source": [
    "spark.sql(\"SELECT * FROM credit_table WHERE Housing != 'free' \").show(10)"
   ]
  },
  {
   "cell_type": "code",
   "execution_count": 20,
   "metadata": {
    "scrolled": true
   },
   "outputs": [
    {
     "name": "stdout",
     "output_type": "stream",
     "text": [
      "+---+---+------+---+-------+---------------+----------------+-------------+--------+-------------------+\n",
      "| id|Age|   Sex|Job|Housing|Saving_accounts|Checking_account|Credit_amount|Duration|            Purpose|\n",
      "+---+---+------+---+-------+---------------+----------------+-------------+--------+-------------------+\n",
      "|  0| 67|  male|  2|    own|             NA|          little|         1169|       6|           radio/TV|\n",
      "| 10| 25|female|  2|   rent|         little|        moderate|         1295|      12|                car|\n",
      "| 12| 22|female|  2|    own|         little|        moderate|         1567|      12|           radio/TV|\n",
      "| 13| 60|  male|  1|    own|         little|          little|         1199|      24|                car|\n",
      "| 14| 28|female|  2|   rent|         little|          little|         1403|      15|                car|\n",
      "| 15| 32|female|  1|    own|       moderate|          little|         1282|      24|           radio/TV|\n",
      "| 23| 44|  male|  2|    own|       moderate|        moderate|         1804|      12|                car|\n",
      "| 25| 36|  male|  1|    own|         little|          little|         1374|       6|furniture/equipment|\n",
      "| 30| 36|  male|  2|    own|           rich|        moderate|         1913|      18|           business|\n",
      "| 33| 57|  male|  1|   rent|             NA|              NA|         1264|      12|           business|\n",
      "+---+---+------+---+-------+---------------+----------------+-------------+--------+-------------------+\n",
      "only showing top 10 rows\n",
      "\n"
     ]
    }
   ],
   "source": [
    "spark.sql(\"SELECT * FROM credit_table WHERE Credit_amount BETWEEN 1000 AND 2000 \").show(10)"
   ]
  },
  {
   "cell_type": "markdown",
   "metadata": {},
   "source": [
    "#### Комбинирование условий WHERE"
   ]
  },
  {
   "cell_type": "code",
   "execution_count": 27,
   "metadata": {},
   "outputs": [
    {
     "name": "stdout",
     "output_type": "stream",
     "text": [
      "+---+---+------+---+-------+---------------+----------------+-------------+--------+-------+\n",
      "| id|Age|   Sex|Job|Housing|Saving_accounts|Checking_account|Credit_amount|Duration|Purpose|\n",
      "+---+---+------+---+-------+---------------+----------------+-------------+--------+-------+\n",
      "|304| 44|  male|  2|   free|     quite rich|              NA|        10127|      48|    car|\n",
      "|927| 39|  male|  2|   free|         little|          little|        10297|      48|    car|\n",
      "|672| 42|  male|  3|    own|         little|              NA|        10366|      60|    car|\n",
      "|902| 42|  male|  2|   free|             NA|              NA|        10477|      36|    car|\n",
      "|205| 38|  male|  3|   free|         little|          little|        10623|      30|    car|\n",
      "|285| 35|female|  1|    own|         little|          little|        10722|      47|    car|\n",
      "|854| 45|  male|  2|    own|         little|              NA|        10875|      36|    car|\n",
      "|450| 30|  male|  3|    own|             NA|              NA|        11054|      36|    car|\n",
      "|736| 23|female|  3|   rent|         little|        moderate|        11560|      24|    car|\n",
      "|333| 24|female|  1|   rent|       moderate|              NA|        11590|      48|    car|\n",
      "+---+---+------+---+-------+---------------+----------------+-------------+--------+-------+\n",
      "only showing top 10 rows\n",
      "\n"
     ]
    }
   ],
   "source": [
    "spark.sql(\"\"\"SELECT * FROM credit_table \n",
    "                WHERE Credit_amount > 10000\n",
    "                  AND Purpose = 'car' \n",
    "                ORDER BY Credit_amount\n",
    "                \"\"\").show(10)"
   ]
  },
  {
   "cell_type": "markdown",
   "metadata": {},
   "source": [
    "#### Условие OR"
   ]
  },
  {
   "cell_type": "code",
   "execution_count": 28,
   "metadata": {},
   "outputs": [
    {
     "name": "stdout",
     "output_type": "stream",
     "text": [
      "+---+---+------+---+-------+---------------+----------------+-------------+--------+-------------------+\n",
      "| id|Age|   Sex|Job|Housing|Saving_accounts|Checking_account|Credit_amount|Duration|            Purpose|\n",
      "+---+---+------+---+-------+---------------+----------------+-------------+--------+-------------------+\n",
      "|750| 49|female|  2|    own|         little|          little|          428|       6|furniture/equipment|\n",
      "|837| 23|female|  1|   rent|         little|              NA|          601|       4|furniture/equipment|\n",
      "|439| 26|female|  0|    own|         little|            rich|          609|      12|           business|\n",
      "|869| 24|female|  2|   rent|         little|          little|          652|      12|furniture/equipment|\n",
      "|316| 38|  male|  1|    own|         little|          little|          708|      12|furniture/equipment|\n",
      "|171| 26|female|  2|    own|         little|              NA|          763|      12|furniture/equipment|\n",
      "|573| 22|female|  1|    own|         little|          little|          806|      15|           business|\n",
      "|752| 23|female|  1|   rent|       moderate|        moderate|          841|      12|           business|\n",
      "|810| 26|  male|  2|    own|         little|        moderate|          907|       8|           business|\n",
      "|601| 30|female|  2|    own|         little|        moderate|          918|       9|furniture/equipment|\n",
      "+---+---+------+---+-------+---------------+----------------+-------------+--------+-------------------+\n",
      "only showing top 10 rows\n",
      "\n"
     ]
    }
   ],
   "source": [
    "spark.sql(\"\"\"SELECT * FROM credit_table \n",
    "                WHERE Purpose = 'furniture/equipment'\n",
    "                   OR Purpose = 'business' \n",
    "                ORDER BY Credit_amount\n",
    "                \"\"\").show(10)"
   ]
  },
  {
   "cell_type": "markdown",
   "metadata": {},
   "source": [
    "####  Условие IN"
   ]
  },
  {
   "cell_type": "code",
   "execution_count": 29,
   "metadata": {},
   "outputs": [
    {
     "name": "stdout",
     "output_type": "stream",
     "text": [
      "+---+---+------+---+-------+---------------+----------------+-------------+--------+-------------------+\n",
      "| id|Age|   Sex|Job|Housing|Saving_accounts|Checking_account|Credit_amount|Duration|            Purpose|\n",
      "+---+---+------+---+-------+---------------+----------------+-------------+--------+-------------------+\n",
      "|750| 49|female|  2|    own|         little|          little|          428|       6|furniture/equipment|\n",
      "|837| 23|female|  1|   rent|         little|              NA|          601|       4|furniture/equipment|\n",
      "|439| 26|female|  0|    own|         little|            rich|          609|      12|           business|\n",
      "|869| 24|female|  2|   rent|         little|          little|          652|      12|furniture/equipment|\n",
      "|316| 38|  male|  1|    own|         little|          little|          708|      12|furniture/equipment|\n",
      "|171| 26|female|  2|    own|         little|              NA|          763|      12|furniture/equipment|\n",
      "|573| 22|female|  1|    own|         little|          little|          806|      15|           business|\n",
      "|752| 23|female|  1|   rent|       moderate|        moderate|          841|      12|           business|\n",
      "|810| 26|  male|  2|    own|         little|        moderate|          907|       8|           business|\n",
      "|601| 30|female|  2|    own|         little|        moderate|          918|       9|furniture/equipment|\n",
      "+---+---+------+---+-------+---------------+----------------+-------------+--------+-------------------+\n",
      "only showing top 10 rows\n",
      "\n"
     ]
    }
   ],
   "source": [
    "spark.sql(\"\"\"SELECT * FROM credit_table \n",
    "                WHERE Purpose IN ('furniture/equipment', 'business')\n",
    "                ORDER BY Credit_amount\n",
    "                \"\"\").show(10)"
   ]
  },
  {
   "cell_type": "markdown",
   "metadata": {},
   "source": [
    "####  Условие NOT"
   ]
  },
  {
   "cell_type": "code",
   "execution_count": 32,
   "metadata": {},
   "outputs": [
    {
     "name": "stdout",
     "output_type": "stream",
     "text": [
      "+---+---+------+---+-------+---------------+----------------+-------------+--------+-------------------+\n",
      "| id|Age|   Sex|Job|Housing|Saving_accounts|Checking_account|Credit_amount|Duration|            Purpose|\n",
      "+---+---+------+---+-------+---------------+----------------+-------------+--------+-------------------+\n",
      "|750| 49|female|  2|    own|         little|          little|          428|       6|furniture/equipment|\n",
      "|837| 23|female|  1|   rent|         little|              NA|          601|       4|furniture/equipment|\n",
      "|869| 24|female|  2|   rent|         little|          little|          652|      12|furniture/equipment|\n",
      "|316| 38|  male|  1|    own|         little|          little|          708|      12|furniture/equipment|\n",
      "|171| 26|female|  2|    own|         little|              NA|          763|      12|furniture/equipment|\n",
      "|573| 22|female|  1|    own|         little|          little|          806|      15|           business|\n",
      "|752| 23|female|  1|   rent|       moderate|        moderate|          841|      12|           business|\n",
      "|810| 26|  male|  2|    own|         little|        moderate|          907|       8|           business|\n",
      "|601| 30|female|  2|    own|         little|        moderate|          918|       9|furniture/equipment|\n",
      "|942| 31|  male|  2|    own|             NA|              NA|          929|      24|furniture/equipment|\n",
      "+---+---+------+---+-------+---------------+----------------+-------------+--------+-------------------+\n",
      "only showing top 10 rows\n",
      "\n"
     ]
    }
   ],
   "source": [
    "spark.sql(\"\"\"SELECT * FROM credit_table \n",
    "                WHERE Purpose IN ('furniture/equipment', 'business')\n",
    "                  AND NOT Job = 0\n",
    "                ORDER BY Credit_amount\n",
    "                \"\"\").show(10)"
   ]
  },
  {
   "cell_type": "code",
   "execution_count": null,
   "metadata": {},
   "outputs": [],
   "source": []
  },
  {
   "cell_type": "code",
   "execution_count": null,
   "metadata": {},
   "outputs": [],
   "source": []
  }
 ],
 "metadata": {
  "colab": {
   "collapsed_sections": [],
   "name": "PySparkColab_1",
   "provenance": []
  },
  "kernelspec": {
   "display_name": "Python 3 (ipykernel)",
   "language": "python",
   "name": "python3"
  },
  "language_info": {
   "codemirror_mode": {
    "name": "ipython",
    "version": 3
   },
   "file_extension": ".py",
   "mimetype": "text/x-python",
   "name": "python",
   "nbconvert_exporter": "python",
   "pygments_lexer": "ipython3",
   "version": "3.8.10"
  }
 },
 "nbformat": 4,
 "nbformat_minor": 1
}
