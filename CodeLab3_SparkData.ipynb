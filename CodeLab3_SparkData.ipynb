{
  "cells": [
    {
      "cell_type": "markdown",
      "metadata": {
        "id": "nLMnilsvYa_D"
      },
      "source": [
        "# Технологии обработки больших данных\n",
        "\n",
        "Занятие 3. PySpark Data Structures\n",
        "\n",
        "0. Запуск PySpark на локальной машине\n",
        "1. Spark DataFrame \n",
        "2. Spark RDD (разбор предыдущего ДЗ)\n",
        "3. Spark Pandas API DataFrame\n",
        "4. Домашнее задание "
      ]
    },
    {
      "cell_type": "code",
      "execution_count": null,
      "metadata": {
        "colab": {
          "base_uri": "https://localhost:8080/"
        },
        "id": "4fGYMl_aYa_L",
        "outputId": "af7a5fae-0711-41a6-bed0-f5cbac553fe5"
      },
      "outputs": [
        {
          "output_type": "stream",
          "name": "stdout",
          "text": [
            "Requirement already satisfied: pandas in /usr/local/lib/python3.7/dist-packages (1.3.5)\n",
            "Requirement already satisfied: pyarrow in /usr/local/lib/python3.7/dist-packages (6.0.1)\n",
            "Requirement already satisfied: plotly in /usr/local/lib/python3.7/dist-packages (5.5.0)\n",
            "Requirement already satisfied: pytz>=2017.3 in /usr/local/lib/python3.7/dist-packages (from pandas) (2018.9)\n",
            "Requirement already satisfied: numpy>=1.17.3 in /usr/local/lib/python3.7/dist-packages (from pandas) (1.21.5)\n",
            "Requirement already satisfied: python-dateutil>=2.7.3 in /usr/local/lib/python3.7/dist-packages (from pandas) (2.8.2)\n",
            "Requirement already satisfied: six>=1.5 in /usr/local/lib/python3.7/dist-packages (from python-dateutil>=2.7.3->pandas) (1.15.0)\n",
            "Requirement already satisfied: tenacity>=6.2.0 in /usr/local/lib/python3.7/dist-packages (from plotly) (8.0.1)\n"
          ]
        }
      ],
      "source": [
        "%%bash\n",
        "pip install pandas pyarrow plotly"
      ]
    },
    {
      "cell_type": "code",
      "source": [
        "! pip install pyspark"
      ],
      "metadata": {
        "colab": {
          "base_uri": "https://localhost:8080/"
        },
        "id": "W3Wta1zcvaL-",
        "outputId": "fdf31ebe-a221-45c4-9c14-b93f23281fbf"
      },
      "execution_count": null,
      "outputs": [
        {
          "output_type": "stream",
          "name": "stdout",
          "text": [
            "Collecting pyspark\n",
            "  Downloading pyspark-3.2.1.tar.gz (281.4 MB)\n",
            "\u001b[K     |████████████████████████████████| 281.4 MB 35 kB/s \n",
            "\u001b[?25hCollecting py4j==0.10.9.3\n",
            "  Downloading py4j-0.10.9.3-py2.py3-none-any.whl (198 kB)\n",
            "\u001b[K     |████████████████████████████████| 198 kB 47.6 MB/s \n",
            "\u001b[?25hBuilding wheels for collected packages: pyspark\n",
            "  Building wheel for pyspark (setup.py) ... \u001b[?25l\u001b[?25hdone\n",
            "  Created wheel for pyspark: filename=pyspark-3.2.1-py2.py3-none-any.whl size=281853642 sha256=5474e0471d0b577bde331117fc5654af1e706c598c3b6bc93a371f5d5cd857ff\n",
            "  Stored in directory: /root/.cache/pip/wheels/9f/f5/07/7cd8017084dce4e93e84e92efd1e1d5334db05f2e83bcef74f\n",
            "Successfully built pyspark\n",
            "Installing collected packages: py4j, pyspark\n",
            "Successfully installed py4j-0.10.9.3 pyspark-3.2.1\n"
          ]
        }
      ]
    },
    {
      "cell_type": "code",
      "source": [
        "import pyspark\n",
        "\n",
        "from pyspark.sql import SparkSession\n",
        "spark = SparkSession.builder.master(\"local[*]\").getOrCreate()"
      ],
      "metadata": {
        "id": "UiCrrcw4vU7o"
      },
      "execution_count": null,
      "outputs": []
    },
    {
      "cell_type": "markdown",
      "metadata": {
        "id": "gJP0GfuiYa_O"
      },
      "source": [
        "Рассмотрим пример данных [German Credit](https://www.kaggle.com/uciml/german-credit), которые используются для решении задачи кредитного скоринга. Это небольшой датасет с информацией о клиентах, необходимой для принятия решения - выдавать кредит или нет.  \n",
        "\n",
        "Сегодня мы не будем решать задачу предсказания, просто разберемся с основными приемами EDA (Exploratory data analysis, [Разведочный анализ данных](https://ru.wikipedia.org/wiki/%D0%A0%D0%B0%D0%B7%D0%B2%D0%B5%D0%B4%D0%BE%D1%87%D0%BD%D1%8B%D0%B9_%D0%B0%D0%BD%D0%B0%D0%BB%D0%B8%D0%B7_%D0%B4%D0%B0%D0%BD%D0%BD%D1%8B%D1%85)). "
      ]
    },
    {
      "cell_type": "code",
      "execution_count": null,
      "metadata": {
        "id": "KXOIpB6bYa_P"
      },
      "outputs": [],
      "source": [
        "DATA_PATH = 'sample_data/credit_data.csv'"
      ]
    },
    {
      "cell_type": "markdown",
      "metadata": {
        "id": "-MMZFv79Ya_P"
      },
      "source": [
        "**Columns**  \n",
        "\n",
        "Age (numeric)  \n",
        "Sex (text: male, female)  \n",
        "Job (numeric: 0 - unskilled and non-resident, 1 - unskilled and resident, 2 - skilled, 3 - highly skilled)  \n",
        "Housing (text: own, rent, or free)  \n",
        "Saving accounts (text - little, moderate, quite rich, rich)  \n",
        "Checking account (numeric, in DM - Deutsch Mark)  \n",
        "Credit amount (numeric, in DM)  \n",
        "Duration (numeric, in month)  \n",
        "Purpose (text: car, furniture/equipment, radio/TV, domestic appliances, repairs, education, business, vacation/others)"
      ]
    },
    {
      "cell_type": "markdown",
      "metadata": {
        "id": "DS3cVqWkC7gJ"
      },
      "source": [
        "## 1. Spark DataFrame\n",
        "\n",
        "Базовый класс для работы со структуированными данными в pyspark."
      ]
    },
    {
      "cell_type": "code",
      "execution_count": null,
      "metadata": {
        "colab": {
          "base_uri": "https://localhost:8080/"
        },
        "id": "QlMUL-zkBs0N",
        "outputId": "e8ca5daa-280e-4e3f-93c9-64fe7f9c8fdc"
      },
      "outputs": [
        {
          "output_type": "execute_result",
          "data": {
            "text/plain": [
              "pyspark.sql.dataframe.DataFrame"
            ]
          },
          "metadata": {},
          "execution_count": 8
        }
      ],
      "source": [
        "df = spark.read.csv(DATA_PATH, header=True)\n",
        "type(df)"
      ]
    },
    {
      "cell_type": "code",
      "execution_count": null,
      "metadata": {
        "colab": {
          "base_uri": "https://localhost:8080/"
        },
        "id": "j_nvZ0qNDF9-",
        "outputId": "5319adb2-ddb7-445a-b363-605dd8f716e2",
        "scrolled": true
      },
      "outputs": [
        {
          "output_type": "stream",
          "name": "stdout",
          "text": [
            "+---+---+------+---+-------+---------------+----------------+-------------+--------+-------------------+\n",
            "|id |Age|Sex   |Job|Housing|Saving_accounts|Checking_account|Credit_amount|Duration|Purpose            |\n",
            "+---+---+------+---+-------+---------------+----------------+-------------+--------+-------------------+\n",
            "|0  |67 |male  |2  |own    |NA             |little          |1169         |6       |radio/TV           |\n",
            "|1  |22 |female|2  |own    |little         |moderate        |5951         |48      |radio/TV           |\n",
            "|2  |49 |male  |1  |own    |little         |NA              |2096         |12      |education          |\n",
            "|3  |45 |male  |2  |free   |little         |little          |7882         |42      |furniture/equipment|\n",
            "|4  |53 |male  |2  |free   |little         |little          |4870         |24      |car                |\n",
            "|5  |35 |male  |1  |free   |NA             |NA              |9055         |36      |education          |\n",
            "|6  |53 |male  |2  |own    |quite rich     |NA              |2835         |24      |furniture/equipment|\n",
            "|7  |35 |male  |3  |rent   |little         |moderate        |6948         |36      |car                |\n",
            "|8  |61 |male  |1  |own    |rich           |NA              |3059         |12      |radio/TV           |\n",
            "|9  |28 |male  |3  |own    |little         |moderate        |5234         |30      |car                |\n",
            "+---+---+------+---+-------+---------------+----------------+-------------+--------+-------------------+\n",
            "only showing top 10 rows\n",
            "\n"
          ]
        }
      ],
      "source": [
        "# First rows in this DataFrame\n",
        "df.show(10, truncate=False) "
      ]
    },
    {
      "cell_type": "markdown",
      "metadata": {
        "id": "yUL59YJgYa_R"
      },
      "source": [
        "### Схема данных как в SQL"
      ]
    },
    {
      "cell_type": "code",
      "execution_count": null,
      "metadata": {
        "id": "lEReym0XYa_R"
      },
      "outputs": [],
      "source": [
        "schema = \"id INT, Age INT, Sex STRING, Job INT, Housing STRING, Saving_accounts STRING, \\\n",
        "Checking_account STRING, Credit_amount INT, Duration INT, Purpose STRING\""
      ]
    },
    {
      "cell_type": "code",
      "execution_count": null,
      "metadata": {
        "scrolled": false,
        "id": "vDUd_M-XYa_S"
      },
      "outputs": [],
      "source": [
        "df = spark.read.csv('sample_data/credit_data.csv', schema=schema, header=True )"
      ]
    },
    {
      "cell_type": "code",
      "execution_count": null,
      "metadata": {
        "scrolled": false,
        "colab": {
          "base_uri": "https://localhost:8080/"
        },
        "id": "6c5I-2xKYa_S",
        "outputId": "ca48e130-5508-4004-a3f0-ed819346b62b"
      },
      "outputs": [
        {
          "output_type": "stream",
          "name": "stdout",
          "text": [
            "root\n",
            " |-- id: integer (nullable = true)\n",
            " |-- Age: integer (nullable = true)\n",
            " |-- Sex: string (nullable = true)\n",
            " |-- Job: integer (nullable = true)\n",
            " |-- Housing: string (nullable = true)\n",
            " |-- Saving_accounts: string (nullable = true)\n",
            " |-- Checking_account: string (nullable = true)\n",
            " |-- Credit_amount: integer (nullable = true)\n",
            " |-- Duration: integer (nullable = true)\n",
            " |-- Purpose: string (nullable = true)\n",
            "\n"
          ]
        }
      ],
      "source": [
        "df.printSchema()"
      ]
    },
    {
      "cell_type": "markdown",
      "metadata": {
        "id": "57jfBINAYa_T"
      },
      "source": [
        "### Сортировка и фильтрация данных"
      ]
    },
    {
      "cell_type": "code",
      "execution_count": null,
      "metadata": {
        "colab": {
          "base_uri": "https://localhost:8080/"
        },
        "id": "jILNcZlPYa_T",
        "outputId": "29268409-39f4-4aae-ce94-0ba90e7093f4"
      },
      "outputs": [
        {
          "output_type": "stream",
          "name": "stdout",
          "text": [
            "+---+---+------+---+-------+---------------+----------------+-------------+--------+-------------------+\n",
            "| id|Age|   Sex|Job|Housing|Saving_accounts|Checking_account|Credit_amount|Duration|            Purpose|\n",
            "+---+---+------+---+-------+---------------+----------------+-------------+--------+-------------------+\n",
            "| 56| 52|  male|  3|    own|             NA|        moderate|         6468|      12|           radio/TV|\n",
            "|175| 53|female|  3|    own|             NA|              NA|         7485|      30|                car|\n",
            "| 58| 23|female|  3|    own|         little|            rich|         1961|      18|                car|\n",
            "|  9| 28|  male|  3|    own|         little|        moderate|         5234|      30|                car|\n",
            "| 62| 61|  male|  3|   free|         little|        moderate|         1953|      36|           business|\n",
            "| 51| 30|  male|  3|    own|         little|        moderate|         5965|      27|                car|\n",
            "| 72| 51|  male|  3|   free|         little|          little|         1164|       8|    vacation/others|\n",
            "| 40| 30|  male|  3|    own|     quite rich|              NA|         2333|      30|           radio/TV|\n",
            "| 74| 40|  male|  3|    own|             NA|          little|         1977|      36|          education|\n",
            "|106| 39|  male|  3|    own|         little|              NA|         6458|      18|                car|\n",
            "|116| 30|female|  3|    own|             NA|          little|         7174|      42|           radio/TV|\n",
            "|  7| 35|  male|  3|   rent|         little|        moderate|         6948|      36|                car|\n",
            "|119| 36|  male|  3|    own|     quite rich|        moderate|         2366|      12|                car|\n",
            "| 34| 33|female|  3|    own|         little|            rich|         1474|      12|furniture/equipment|\n",
            "|121| 41|female|  3|   rent|         little|              NA|         3868|      24|                car|\n",
            "| 75| 66|  male|  3|   free|         little|          little|         1526|      12|                car|\n",
            "|128| 34|  male|  3|    own|         little|        moderate|         1860|      12|                car|\n",
            "| 88| 30|  male|  3|    own|       moderate|          little|         2249|      18|                car|\n",
            "|141| 30|female|  3|    own|         little|        moderate|         4795|      36|           radio/TV|\n",
            "|105| 39|  male|  3|    own|         little|        moderate|        11938|      24|    vacation/others|\n",
            "+---+---+------+---+-------+---------------+----------------+-------------+--------+-------------------+\n",
            "only showing top 20 rows\n",
            "\n"
          ]
        }
      ],
      "source": [
        "# One column sorting\n",
        "df.sort('Job', ascending=False).show()"
      ]
    },
    {
      "cell_type": "code",
      "execution_count": null,
      "metadata": {
        "scrolled": true,
        "colab": {
          "base_uri": "https://localhost:8080/"
        },
        "id": "UF4nVW4oYa_T",
        "outputId": "2d15ac1a-cc0c-437f-f708-b234a06e62fe"
      },
      "outputs": [
        {
          "output_type": "stream",
          "name": "stdout",
          "text": [
            "+---+---+------+---+-------+---------------+----------------+-------------+--------+---------+\n",
            "| id|Age|   Sex|Job|Housing|Saving_accounts|Checking_account|Credit_amount|Duration|  Purpose|\n",
            "+---+---+------+---+-------+---------------+----------------+-------------+--------+---------+\n",
            "|536| 75|female|  3|    own|             NA|          little|         1374|       6|      car|\n",
            "|330| 75|  male|  3|   free|         little|          little|         6615|      24|      car|\n",
            "|756| 74|  male|  0|    own|         little|            rich|         1299|       6|      car|\n",
            "|430| 74|  male|  1|    own|         little|              NA|         3448|       5| business|\n",
            "|606| 74|  male|  3|    own|         little|              NA|         4526|      24| business|\n",
            "|186| 74|female|  3|   free|         little|        moderate|         5129|       9|      car|\n",
            "|163| 70|  male|  3|   free|         little|        moderate|         7308|      10|      car|\n",
            "|187| 68|  male|  0|   free|         little|        moderate|         1175|      16|      car|\n",
            "|846| 68|  male|  2|   rent|             NA|              NA|         6761|      18|      car|\n",
            "|917| 68|  male|  3|    own|         little|          little|        14896|       6|      car|\n",
            "|  0| 67|  male|  2|    own|             NA|          little|         1169|       6| radio/TV|\n",
            "|554| 67|female|  3|    own|         little|        moderate|         1199|       9|education|\n",
            "|779| 67|female|  2|    own|         little|        moderate|         3872|      18|  repairs|\n",
            "|137| 66|  male|  1|    own|     quite rich|        moderate|          766|      12| radio/TV|\n",
            "|723| 66|female|  1|    own|     quite rich|        moderate|          790|       9| radio/TV|\n",
            "|774| 66|  male|  0|   free|     quite rich|            rich|         1480|      12|      car|\n",
            "| 75| 66|  male|  3|   free|         little|          little|         1526|      12|      car|\n",
            "|213| 66|  male|  3|    own|         little|            rich|         1908|      30| business|\n",
            "|179| 65|  male|  2|    own|         little|          little|          571|      21|      car|\n",
            "|807| 65|  male|  2|    own|             NA|              NA|          930|      12| radio/TV|\n",
            "+---+---+------+---+-------+---------------+----------------+-------------+--------+---------+\n",
            "only showing top 20 rows\n",
            "\n"
          ]
        }
      ],
      "source": [
        "# Few columns sorting\n",
        "df.sort(['Age', 'Credit_amount'], ascending=[False, True]).show()"
      ]
    },
    {
      "cell_type": "code",
      "execution_count": null,
      "metadata": {
        "id": "6IA45AUWYa_T"
      },
      "outputs": [],
      "source": [
        "df_car = df.filter(df[\"Purpose\"] == 'car')"
      ]
    },
    {
      "cell_type": "code",
      "execution_count": null,
      "metadata": {
        "colab": {
          "base_uri": "https://localhost:8080/"
        },
        "id": "k4MUqHT_Ya_U",
        "outputId": "6670fb88-b913-4ea0-e631-a16f4cf0d1c8"
      },
      "outputs": [
        {
          "output_type": "execute_result",
          "data": {
            "text/plain": [
              "0.337"
            ]
          },
          "metadata": {},
          "execution_count": 16
        }
      ],
      "source": [
        "# Доля автокредитов\n",
        "df_car.count() / df.count()"
      ]
    },
    {
      "cell_type": "markdown",
      "metadata": {
        "id": "dmFyzj8DYa_U"
      },
      "source": [
        "### Группировка данных"
      ]
    },
    {
      "cell_type": "code",
      "execution_count": null,
      "metadata": {
        "colab": {
          "base_uri": "https://localhost:8080/"
        },
        "id": "zK7DuGOUYa_U",
        "outputId": "c30c904e-9de8-4f42-a0a4-ea9050357e60"
      },
      "outputs": [
        {
          "output_type": "stream",
          "name": "stdout",
          "text": [
            "+---+-----+\n",
            "|Age|count|\n",
            "+---+-----+\n",
            "| 19|    2|\n",
            "| 20|   14|\n",
            "| 21|   14|\n",
            "| 22|   27|\n",
            "| 23|   48|\n",
            "| 24|   44|\n",
            "| 25|   41|\n",
            "| 26|   50|\n",
            "| 27|   51|\n",
            "| 28|   43|\n",
            "| 29|   37|\n",
            "| 30|   40|\n",
            "| 31|   38|\n",
            "| 32|   34|\n",
            "| 33|   33|\n",
            "| 34|   32|\n",
            "| 35|   40|\n",
            "| 36|   39|\n",
            "| 37|   29|\n",
            "| 38|   24|\n",
            "+---+-----+\n",
            "only showing top 20 rows\n",
            "\n"
          ]
        }
      ],
      "source": [
        "df.groupBy(\"Age\").count().sort('Age').show()"
      ]
    },
    {
      "cell_type": "markdown",
      "metadata": {
        "id": "195EdE9MYa_U"
      },
      "source": [
        "## 2. Spark RDD \n",
        "\n",
        "Resilient Distributed Dataset. \n",
        "Менее удобный, но более производительный контейнер для данных.  \n",
        "\n",
        "Подробнее про DataFrame, DataSet и RDD на русском языке\n",
        "[1](https://www.bigdataschool.ru/blog/spark-sql-data-structures.html), \n",
        "[2](https://www.bigdataschool.ru/blog/rdd-vs-dataframe-vs-dataset.html).  \n",
        "\n",
        "На английском рекомендую [официальный гайд](https://spark.apache.org/docs/latest/sql-getting-started.html)."
      ]
    },
    {
      "cell_type": "code",
      "execution_count": null,
      "metadata": {
        "id": "HaTsCMRJYa_V"
      },
      "outputs": [],
      "source": [
        "log_file = spark.read.text('sample_data/log.txt')"
      ]
    },
    {
      "cell_type": "code",
      "execution_count": null,
      "metadata": {
        "scrolled": true,
        "colab": {
          "base_uri": "https://localhost:8080/"
        },
        "id": "fjHEILjnYa_V",
        "outputId": "d082c918-a233-40fc-8ac2-98c46803be8a"
      },
      "outputs": [
        {
          "output_type": "stream",
          "name": "stdout",
          "text": [
            "+------------------------------------------------------------------------------------------------------------------------------------------------------------------------------------------------------------------------------------------------------------------------------------------------------------------------------------------------------------------------------------------------------------------------------------------+\n",
            "|_1                                                                                                                                                                                                                                                                                                                                                                                                                                        |\n",
            "+------------------------------------------------------------------------------------------------------------------------------------------------------------------------------------------------------------------------------------------------------------------------------------------------------------------------------------------------------------------------------------------------------------------------------------------+\n",
            "|2022-02-16 17:47:42.154547 ZJV GFU DAM IRO HOJ WUU BIV LEZ QBW LGV DKZ WVJ TZJ ZDU IRO OUO YDO MHX HSW TYI DWI PBJ PWW UWG SUI MDI YSS DKS SEV PNR BQH KKM SVH OPR EOR KXQ UAU HIR GGA WSU WUJ NQX UIF QMK URG CCW BGL VKV WAP FFA MFB EJG UIG YIG PBS HPK JTP DFM FPB IFT NDV IIZ BSM QSP ZVU ENY GMA EKN SAT HGK BGZ KKM QMU CPI GMW QDE WXC NAB UIW PIU ATI CLZ AZE FIE TQT UTG SWN MKV IOJ LJX IMG RLI SAJ RSC TQX YQY SZR MKY KBS NOB|\n",
            "|2022-02-16 17:47:42.155723 XHX XPP HNU AXU SJI XHY SEQ LHI SFI QDG KQQ YTP JBU OLB DOH OMN XAP CLR XXQ DWM DCO ZFP LNZ EYJ ZSX STK DTD EAE FNO AIO XPU VUQ KFA DFF VDU JIU NWI IUU XSE IWV NRS BMN NRM KOD GTB FPT OXB EJJ QFK YUA HDB ENY TGH LDB EZB AVY FZI ZQV HHF DXM TFK UAK MES GKO CXY EYE KMJ SLF PWL HLS YGK HHN PON GND UIU SGF ATB WUV GEI ZZQ OMC WFH YZG PUU GFU SBF HVP IAY SDZ HBY ZHP HNW NMJ FXK XND ZQY TNP CZI NUT VFT|\n",
            "|2022-02-16 17:47:42.156961 URW WWL MEC ISM FKG PUB BYJ IHZ VQR HJK RUY EBN UEL WKQ IAA BOX GGE PDU ZXO UBO XJH XMI ZKL IMZ HUP YMQ CHU UMD RMG AXR CIO OXR PTP HDG TQJ GGW GUM OJZ ENH FVF OLL KHF AXF LBK ZEG TUR IZS FEQ ASS IME WEU PJC KRN CGB EHO PZY YXF UFI JRH JGO CCM KRP XJF NMO RKM ARH FRB YRP FBS MLY AHC SVF BZD CCX RIO XTL ZXV JBW ORC JGK BNW BGD KBU EYF LWP JZH HZE VDD WDZ ZFK WUK UNE XAG NNI IRE TMA DZP XZU YNR ZTN|\n",
            "|2022-02-16 17:47:42.163537 TMI ALQ KFV FCL TVR LAH FKI RGO YSS LGZ ALA FDA XLU SCD ZVJ ZRU QHT CGD WHT QQS IBX AAE CRP AGP FME YUY FPH MCO GZE MKL NMZ BER OGU LRR AHK MZI IGU YXV BSB XYS JUJ APW UOT NZC YVV SCB BQI JSR NLG RLE ROJ RXH QQP VMO AWE SUI JHK PCS RKW IRF BPF OPW KQQ WEW OZK TAW XXR RCN CRD PLA ZBP ZFM HFW RQH KKO SIP SHW LYR OUF LMR IHV EIH OGZ OKE HEV TKD RTI JOA AMY BTL GEK DSA JWU ETZ VOV GGA CPF HGU RXA YYE|\n",
            "|2022-02-16 17:47:42.164261 RFJ ENS DCR KXF YPJ WCJ NOD DLF EFQ WWG WZP QIJ QXF WFK FZO MUP KMK QDK LPE ACS TTL CCF RUZ TDK XSH HCJ EMH AXD RIX QWY OGB HNT FZD BZF OWP KNQ MSN YYD CIC HWK OWZ FQF ZOS INH SGR RCF KQE UUX QVY MFE QSZ RVR NZY GWH GVS LLN FYM AAD CYH ZNI QNP PRA ZBR KBA XOY EQL BXP HDD MMG WFZ XNP HJY VCL IAT ZVL QKA ZAL LTC DYK CLG FEN HNW SGN QVU JLG JLS MXQ FJB XQI PXF BOQ UDM IMG PWX ZTW SEP LBR RZJ QSJ ZTL|\n",
            "|2022-02-16 17:47:42.164976 BNH HFG HOP WNI EGX DLY AIS AJX UAR IMO UFE GLR LUJ BVY TKH OEI XLZ MYH UYB HHR BLA XSP MWZ XLF CWD KNQ GQD KGN FBZ SUU DMJ DFP SAV YLJ XIC EJB ZFE OJE EOU GVO WJB IZW SCV YYP KMY MPR BGW VLY LOG EGP QYK HFM TYC XMW LSU AJY USX XEK SKM WXQ RZA TNR HNE UPF HPW VHQ AUE NXO YJB ZLU ZDE CHQ YUF EOM GRL GCY JEZ OIS JCH EXW XUU LXR QZQ JCY ZBF XGH AZT KEE LYZ TRH YXB MYN ODR CAR ZRX LEO BET EBA WMJ KNO|\n",
            "|2022-02-16 17:47:42.165674 FBB BNV NYA MIL CEO OYG VYU UFD VKO RHQ YJT FIE FOR LYA EBF UKD WCP NCM IXM OMD TTG XWV JLA JSO MWI SKD YVI ZXP HJW NVG CMR JRT RRS CZP ORY CAA VGA QEP QUU HOD CRZ JWV DWL UTT VZA REC ZEH WEM KMJ UHF BVC EFG TRE LZJ ZVJ DWN FUH WJA ZWB NMT QUF CMV LEW QDA QRW SXN YWU DSQ BNQ FKQ ZTA KAX QBS SIA JBK GJH BYS IMM XBI ELW IFR LWD ICZ GSV PVE VWN PLU TRP KOS VAJ CIJ VWU CYP YSI BKQ BSJ LZN VFN WWX GCS|\n",
            "|2022-02-16 17:47:42.166676 WHU PQX XUO MMJ OGR PDO JJG RSY VBD KLX CEK XTC GXO IMG GYO HAP MPB VDC JSV GLJ CMW RPL FYH CBO ILO JHG DEP SFS RZX RSU ULR SCJ MIB JLF TSZ IRI AQN UAJ OPM OOO LKW BVW RJG GBU NXA HMG EGC HXX USJ XFB IGV OCR XBX IZQ PYD JZR QKT EHJ USU OTX PEW PWJ NDK YCZ PDL KON IYJ VEG CHJ UZW TVZ YWJ DKN JSQ VCW UPI FKQ HOI KLG UTS CSG GWV IPP OPP UMG HWI CVF KTH RXH ZCM FPU TFF YSD WQG ZRD SKS VQK SUB JVD PUX|\n",
            "|2022-02-16 17:47:42.167349 GYT FYB DRO MWJ HFO CJM YYL IZD DIY STU QNY QWC ZPZ CQP OUW OXB JMH ZNU RIQ HBQ TGV PCF SAP XTZ BYC LUB KKE AYI CXZ UHF ALJ TDP ALL LKW TYP UDF IQH JZQ OPE LDJ QSO IUE ZKF YFG HZD LFI MGH ZRP VNT WMB NUU WTO GFE KNJ IUC PSR UDS BTS AYQ THU TAR PJL LWK PEE QRM WNZ FJR ALM NDC XLM LGC YEV POV JFJ WNG MSL APY RPS OEK ICQ PPQ RDS EGR EDS JDS WHY MLP ESR EAI PHY GEL SES WLF CZE DME QER MGA QDN HDV QKO|\n",
            "|2022-02-16 17:47:42.168004 IVM LPW ZQK WXC ZLP SIH OIW QNR FQA RVC QJW OVA DWP VHQ GPB UVF RFU UMP OUN SVS NSX KIY GCX MWP NQM BRW YOI YLF RVT XCI OEO XDB DKC XID VTX GNE XED DSZ YZD YTC OHQ DDP IUH CZI MFM RUE SFW CYB ARS URR SXH BCG APK FKY RIZ QMI CPN ZAE LUL DGA ZZD KAW JNF BYL RII WJE AIQ OAW QNG HDA ZLE LPG RBG UYQ XZZ OGI HPE UJZ GFY PSS AMO YYS OVY POX WDM JCD SRO RRL FRN OQG MNO TMQ UKW GJQ QIF YME EQF EIR LRB DXR|\n",
            "|2022-02-16 17:47:42.168754 ORZ NGI EKK LNV RLG ETO AKX JRY HHX BFF YHM YDM BUL FBA JPR YCP PFG GOD WGD GWD JOG YZR WTD ZAM QIZ QWP TMC TKY PAJ FLC AVX KTR AUZ TXK UOL XRM SSF YIC HRM MDL ADO CRD BLA MVA CAG INE NCS LOJ DMM GSC MIB FVC QVS OZZ KXA FOR RXJ OJN ZPM WXW JNH FPJ MGN RXR NLP SUN SES BWF EMW HBD RML DFF AGN SNV ANL GSK SPH YZQ EUM APG RNP LOA PIF JPN YHT MLK NUP LEJ XFO QGA WNP RJH EKV YSJ CNC NNP XAV PXD INW XOR|\n",
            "|2022-02-16 17:47:42.169431 YCG XVB UGZ EJY EXD TSJ VCU IIM PGM FCG UXD HIF PDQ BOB WEV QIX NRU UZU POJ XRD MEF TAD PEW JDZ IPZ DMX MPQ FIO OZQ XWJ NGC EQT PXB USS HAG INH FWS FIB OOD CIZ FYX XJC USP OOU MAC KXZ XZK HLR KUH WVG KDW DWD WXQ DBH HPO OIH GKT ELT DUS USQ OAK LKD MYH AGR LHV NZX ZRT XAP VDF AWX SMK CAI XSR EYJ ZKR SCQ IXD KMX GAT AGV FHI XVG YQF LWJ UND HSP ZRS OQE MYH OCD XSE BUW OVC XKU VQV PUK KRE IHK MNC CZW|\n",
            "|2022-02-16 17:47:42.170268 VPG JSU GXE BPH IWS OLH OTR RWJ NQU WBL KXV APF QAO DIZ MTE DOD EDN EXU XYM FHV NOI IZO TVM IXK ZAO STM GXU EMI FRZ UVH WHC XMV VSM ZOU GGU PPZ VZR SLP SXW SNQ SWP VYR SZZ BYE EHN CLZ PVZ OLP HNN AKO HLN BJU RGA QYU NZY IGO PTT COQ BUP YNZ DNY GXV TAI JKM QMM ZBM WXA BDO XWQ OYQ KUH OJM EFH ZWT XDU YKS UGU DNI BNJ IXS WKA YVG LPD SRC WCH NTM SDR DFQ VDF MUC KTT DJR JBR ZAG CFG MDQ VHC LYA MDM HPF|\n",
            "|2022-02-16 17:47:42.171248 CTU XIE DFJ BNQ UJK VNC WJI UUS WDA SWW BCW KTA KTR BXU CLE NSO CKR VGO MHI SBV WZS JES IHJ DZS YAQ QAQ VUJ GKC UFW AKW DEV GFQ OFP PDK BYW MZY XVU CKX LFS ZXN VMG HSH SJE OEU TOZ HGY EHE MVY TFX QDI MKW AHQ GKF CKF BZR WYN KOZ XDZ UPQ GLZ XRF PVD LBK PBA YBU WRA OPM UGZ YEP CVF PSE IEA RUK VRI OAI LZS ABS RSF PDV CRF SRU UIZ WQM BLX XYS VVC QHU CSX VHC QDR BME GYG ZBY GOS LOF XQI QVL EPQ SRT ENP|\n",
            "|2022-02-16 17:47:42.172156 BHR ARZ DVD DAZ ZCG RDJ PJT ZJO JEX IHP MHS XJJ BHO TCL POC YII RFB NBK ABK FBZ BQS BMH KQX WTO TAU VHJ ELR VRT CSP UEO TGF ZMM AVX ALL EJP XCW LLP PPY KPU IXD SJV NPU XCS UJP ZMJ FBR KMY RMT VXN UZF UVP JES TOW QBR KNK NFM NBW BMR PSM XCF CXI GKF ENL PDP GQU HAL ZGC ZQY VUR FMS FBP ZGV ZAB MPW KZA WRD XWE NNG ZDB HCJ EUE ZZW XLO BKF YZJ LOD WDE TIZ GAA OZC DGC BMV ZNE QNX DLS BTI EYG UER ASN WQF|\n",
            "|2022-02-16 17:47:42.173072 HNP JMT WCP HUR RDQ UQW EKT ZIP OYQ WRG FGJ VFF EOA GKC RCO IEG UZC AGR YHN ETQ XEJ GKB NBM ODP QNS ZXP CGX TLD QCR DWI SSB XLQ SON ZWR LHU NEJ UBW JKM XKA UXA VYR NCF NED WVA KCS QVG KHQ BYD GOB LIV DLR VHM FEK GLC OVW ICC ZDV EPZ CUY VTU VMA URZ BCM MHX THZ BBO XLB OPF TOS TAY IQP DTZ OPQ GNL HPV GCD ELH HWS URT VSY AMI BQJ YVX WPH THS YDG MYG ADK ZAM AJO LCQ CLW TPD OTC IHP YRV DAC DIQ ZAT RDV|\n",
            "|2022-02-16 17:47:42.174047 ZEW MZO DMM AOA IIV IPO OZL VSV LHW IMF EHQ MPE CLO SHR XIU FNB ZFM XQF CUA VKI HUH HGJ VDO HWE FQL LFB MHQ NHF UQK JXQ UXZ WWC XEZ ZZA ILI JGM GRL QLO HOB WRT SWO NSD MLC SIF MNU AZR SRX HMS AZI PWK JHI PKJ RRD YIW SIB WMY HLL QHP MCQ ZJO HJK VCB IFK FWO KPB YVH SEN LFW ZSZ RUR ZRH PVJ IUQ CCC MFI UKH GZV CYG LFU NIN SOS KTU SNV PMP AQJ FLD UNV WCJ SAQ HCH BOT BZT ZVD XFV TWI GVQ FEM PIA SBG GAL|\n",
            "|2022-02-16 17:47:42.174767 EVH VLT ZKU OON HDT HYD LKJ TWY OCP HFD JKD LWQ VAC EZL LSA DSY PNH DUJ WRX BMY NFK MMZ HNI TNA SKQ WPA EFC LLH RNA IZK SCZ ETC AOY HCD QUZ SRC CFI APQ VTB RMM BNR QXB GZA YGL OUO YTZ CNE QPU NZQ XSP YJP YEH DYX JEQ PEN XNR AGY ENI PHH JZG QXL XIU CIB HID TIM YRC ZFP UCX XQL FRO BJV IXE RXK XJK DNK GHP BGX JDK XJL UOS JYC NUK YGR WOW VKL KPS IRC JPK VIG HJO LTX OIG DEZ XPZ NPJ OQK HZR LMX ZFC YED|\n",
            "|2022-02-16 17:47:42.175409 JRF PME HRO SDH WDP FCE PEC OHI CBO YEX JSU FNT HKL ZLY CIC PFC BLV OGV ZIX SXL TBQ ETP TEP QNL VBU EOL QZQ DTF LEC DOM SRZ CYA EVA RHE SST STA PDZ NJT EUT IPT YVP WXF VKR HEP MEO EQO EKO LYW RSJ SVY YOP ECZ WIK BLX WCS VMM XFQ KQD TYW CUN ATI NRG TNX XRJ AGD DHN SRT LHA ORO JPD ZQN CUD LHC BRZ ZEH OIQ OBJ GDK KGQ ELB TIC IFI GQT IAQ NDP UNJ IOB AFL GGJ IKY LJO ZPI NAL FPU WVL KVX DKN BFE OYP CXW|\n",
            "|2022-02-16 17:47:42.175939 BDY UEJ KWX RZC HDL SVO JMP BMD HDF JFP RUV CAV AOC WVL PXJ HWI OCB APX UZS SIF VYL CUZ WRL AOR IDX JGM JOZ IYT AAA DMX AHU FTR ARS QGI GJA XIH QAO DZI FNZ STI YXQ VST ZPK XDR VYM XCS SHS SZW VSV JYI FZX DYL LCG ANL KTB MBA FOG HIW XRU VMZ GOG TJR AHB SHJ QXD TPR MPL RMF GLH DIF VPF AKA WAP RKK VQL SNQ RQX GDV JPI YOU ECY KCB XRA TFH TWN VJR YZV KED HEZ ILZ MNL VTH EEH QUX PPE XSP GRM MIF NGV NYC|\n",
            "+------------------------------------------------------------------------------------------------------------------------------------------------------------------------------------------------------------------------------------------------------------------------------------------------------------------------------------------------------------------------------------------------------------------------------------------+\n",
            "only showing top 20 rows\n",
            "\n",
            "CPU times: user 23.2 ms, sys: 460 µs, total: 23.6 ms\n",
            "Wall time: 336 ms\n"
          ]
        }
      ],
      "source": [
        "%%time\n",
        "\n",
        "# Note, we cant use   lambda x:   x.value.upper()\n",
        "df = log_file.rdd.map(lambda x: ( x.value.upper() ,) ).toDF() \n",
        "\n",
        "df.show(truncate=False)"
      ]
    },
    {
      "cell_type": "code",
      "execution_count": null,
      "metadata": {
        "id": "cAwu75krYa_V"
      },
      "outputs": [],
      "source": [
        "with open('sample_data/white_list.txt') as f:\n",
        "    ww = f.readlines()\n",
        "\n",
        "ww = \"\".join([w for w in ww]).split()\n",
        "ww = list(map(str.lower, ww))"
      ]
    },
    {
      "cell_type": "code",
      "execution_count": null,
      "metadata": {
        "id": "bvqbCThnYa_V"
      },
      "outputs": [],
      "source": [
        "def white_filter(s):\n",
        "    w = s.value.split()\n",
        "    timestamp = str(w[0]) + str(w[1]) + \" \"\n",
        "    words = w[2:]\n",
        "    filtered_words = list(filter(lambda x: x in ww, words))\n",
        "    return (timestamp, \" \".join([w for w in filtered_words])  )"
      ]
    },
    {
      "cell_type": "code",
      "execution_count": null,
      "metadata": {
        "colab": {
          "base_uri": "https://localhost:8080/"
        },
        "id": "T1YkGQleYa_W",
        "outputId": "e5f94f68-d75a-49e8-c162-dd95668c596f"
      },
      "outputs": [
        {
          "output_type": "stream",
          "name": "stdout",
          "text": [
            "+--------------------------+-----------+\n",
            "|TimeStamp                 |Words      |\n",
            "+--------------------------+-----------+\n",
            "|2022-02-1617:47:42.154547 |dam sat    |\n",
            "|2022-02-1617:47:42.155723 |eye nut    |\n",
            "|2022-02-1617:47:42.156961 |box        |\n",
            "|2022-02-1617:47:42.163537 |           |\n",
            "|2022-02-1617:47:42.164261 |nod        |\n",
            "|2022-02-1617:47:42.164976 |car        |\n",
            "|2022-02-1617:47:42.165674 |for        |\n",
            "|2022-02-1617:47:42.166676 |           |\n",
            "|2022-02-1617:47:42.167349 |all why gel|\n",
            "|2022-02-1617:47:42.168004 |           |\n",
            "|2022-02-1617:47:42.168754 |god jog for|\n",
            "|2022-02-1617:47:42.169431 |           |\n",
            "|2022-02-1617:47:42.170268 |bye        |\n",
            "|2022-02-1617:47:42.171248 |           |\n",
            "|2022-02-1617:47:42.172156 |all tow    |\n",
            "|2022-02-1617:47:42.173072 |zip        |\n",
            "|2022-02-1617:47:42.174047 |           |\n",
            "|2022-02-1617:47:42.174767 |wow        |\n",
            "|2022-02-1617:47:42.175409 |           |\n",
            "|2022-02-1617:47:42.175939 |you        |\n",
            "+--------------------------+-----------+\n",
            "only showing top 20 rows\n",
            "\n",
            "CPU times: user 35.5 ms, sys: 2.96 ms, total: 38.5 ms\n",
            "Wall time: 2.46 s\n"
          ]
        }
      ],
      "source": [
        "%%time\n",
        "df2 = log_file.rdd.map(white_filter).toDF(schema=('TimeStamp', 'Words'))\n",
        "df2.show(truncate=False)"
      ]
    },
    {
      "cell_type": "code",
      "execution_count": null,
      "metadata": {
        "id": "sBHtpy5bYa_W"
      },
      "outputs": [],
      "source": [
        "wordCounts = df2.rdd.flatMap(lambda line: line[1].split(\" \"))\\\n",
        "                      .map(lambda word: (word, 1))\\\n",
        "                      .reduceByKey(lambda a, b: a + b)"
      ]
    },
    {
      "cell_type": "code",
      "execution_count": null,
      "metadata": {
        "scrolled": true,
        "colab": {
          "base_uri": "https://localhost:8080/"
        },
        "id": "tPZtmKAgYa_W",
        "outputId": "daf84692-308c-4147-bee3-b52b7fd11e7b"
      },
      "outputs": [
        {
          "output_type": "stream",
          "name": "stdout",
          "text": [
            "+---+-----+\n",
            "| _1|   _2|\n",
            "+---+-----+\n",
            "|sat|  495|\n",
            "|nut|  513|\n",
            "|   |33234|\n",
            "|why|  516|\n",
            "|gel|  522|\n",
            "|jog|  500|\n",
            "|bye|  501|\n",
            "|tow|  498|\n",
            "|zip|  480|\n",
            "|now|  487|\n",
            "|yet|  501|\n",
            "|vet|  540|\n",
            "|dot|  521|\n",
            "|ace|  514|\n",
            "|fix|  471|\n",
            "|ink|  492|\n",
            "|cut|  507|\n",
            "|rag|  496|\n",
            "|pup|  504|\n",
            "|yes|  491|\n",
            "+---+-----+\n",
            "only showing top 20 rows\n",
            "\n",
            "CPU times: user 186 ms, sys: 19.3 ms, total: 205 ms\n",
            "Wall time: 33 s\n"
          ]
        }
      ],
      "source": [
        "%%time\n",
        "wordCounts.toDF().show()"
      ]
    },
    {
      "cell_type": "markdown",
      "metadata": {
        "id": "fbbLG0FZYa_W"
      },
      "source": [
        "## 3. Spark Pandas API \n",
        "\n",
        "Начиная с версии Spark 3.2 имеется реализация Pandas API.    \n",
        "Хороший материал непосредственно по pandas: [mlcourse.ai](https://habr.com/ru/company/ods/blog/322626/)"
      ]
    },
    {
      "cell_type": "code",
      "execution_count": null,
      "metadata": {
        "scrolled": true,
        "colab": {
          "base_uri": "https://localhost:8080/"
        },
        "id": "2um4rejSYa_W",
        "outputId": "5be7b0e3-1973-4f96-f7e2-79ccf0c99026"
      },
      "outputs": [
        {
          "output_type": "stream",
          "name": "stderr",
          "text": [
            "WARNING:root:'PYARROW_IGNORE_TIMEZONE' environment variable was not set. It is required to set this environment variable to '1' in both driver and executor sides if you use pyarrow>=2.0.0. pandas-on-Spark will set it for you but it does not work if there is a Spark context already launched.\n"
          ]
        }
      ],
      "source": [
        "# import pandas as pd\n",
        "\n",
        "import pyspark.pandas as pd"
      ]
    },
    {
      "cell_type": "code",
      "execution_count": null,
      "metadata": {
        "colab": {
          "base_uri": "https://localhost:8080/"
        },
        "id": "fZQcAtx_Ya_X",
        "outputId": "1ca8c471-3c29-488d-f957-d90a006a0b28"
      },
      "outputs": [
        {
          "output_type": "execute_result",
          "data": {
            "text/plain": [
              "pyspark.pandas.frame.DataFrame"
            ]
          },
          "metadata": {},
          "execution_count": 57
        }
      ],
      "source": [
        "df = pd.read_csv('sample_data/credit_data.csv')\n",
        "type(df)"
      ]
    },
    {
      "cell_type": "code",
      "execution_count": null,
      "metadata": {
        "colab": {
          "base_uri": "https://localhost:8080/",
          "height": 206
        },
        "id": "qSDCKbekYa_X",
        "outputId": "291aa4d3-64e8-4ee7-d6d5-5369fbdc0f2b"
      },
      "outputs": [
        {
          "output_type": "execute_result",
          "data": {
            "text/plain": [
              "   id  Age     Sex  Job Housing Saving_accounts Checking_account  Credit_amount  Duration              Purpose\n",
              "0   0   67    male    2     own              NA           little           1169         6             radio/TV\n",
              "1   1   22  female    2     own          little         moderate           5951        48             radio/TV\n",
              "2   2   49    male    1     own          little               NA           2096        12            education\n",
              "3   3   45    male    2    free          little           little           7882        42  furniture/equipment\n",
              "4   4   53    male    2    free          little           little           4870        24                  car"
            ],
            "text/html": [
              "<div>\n",
              "<style scoped>\n",
              "    .dataframe tbody tr th:only-of-type {\n",
              "        vertical-align: middle;\n",
              "    }\n",
              "\n",
              "    .dataframe tbody tr th {\n",
              "        vertical-align: top;\n",
              "    }\n",
              "\n",
              "    .dataframe thead th {\n",
              "        text-align: right;\n",
              "    }\n",
              "</style>\n",
              "<table border=\"1\" class=\"dataframe\">\n",
              "  <thead>\n",
              "    <tr style=\"text-align: right;\">\n",
              "      <th></th>\n",
              "      <th>id</th>\n",
              "      <th>Age</th>\n",
              "      <th>Sex</th>\n",
              "      <th>Job</th>\n",
              "      <th>Housing</th>\n",
              "      <th>Saving_accounts</th>\n",
              "      <th>Checking_account</th>\n",
              "      <th>Credit_amount</th>\n",
              "      <th>Duration</th>\n",
              "      <th>Purpose</th>\n",
              "    </tr>\n",
              "  </thead>\n",
              "  <tbody>\n",
              "    <tr>\n",
              "      <th>0</th>\n",
              "      <td>0</td>\n",
              "      <td>67</td>\n",
              "      <td>male</td>\n",
              "      <td>2</td>\n",
              "      <td>own</td>\n",
              "      <td>NA</td>\n",
              "      <td>little</td>\n",
              "      <td>1169</td>\n",
              "      <td>6</td>\n",
              "      <td>radio/TV</td>\n",
              "    </tr>\n",
              "    <tr>\n",
              "      <th>1</th>\n",
              "      <td>1</td>\n",
              "      <td>22</td>\n",
              "      <td>female</td>\n",
              "      <td>2</td>\n",
              "      <td>own</td>\n",
              "      <td>little</td>\n",
              "      <td>moderate</td>\n",
              "      <td>5951</td>\n",
              "      <td>48</td>\n",
              "      <td>radio/TV</td>\n",
              "    </tr>\n",
              "    <tr>\n",
              "      <th>2</th>\n",
              "      <td>2</td>\n",
              "      <td>49</td>\n",
              "      <td>male</td>\n",
              "      <td>1</td>\n",
              "      <td>own</td>\n",
              "      <td>little</td>\n",
              "      <td>NA</td>\n",
              "      <td>2096</td>\n",
              "      <td>12</td>\n",
              "      <td>education</td>\n",
              "    </tr>\n",
              "    <tr>\n",
              "      <th>3</th>\n",
              "      <td>3</td>\n",
              "      <td>45</td>\n",
              "      <td>male</td>\n",
              "      <td>2</td>\n",
              "      <td>free</td>\n",
              "      <td>little</td>\n",
              "      <td>little</td>\n",
              "      <td>7882</td>\n",
              "      <td>42</td>\n",
              "      <td>furniture/equipment</td>\n",
              "    </tr>\n",
              "    <tr>\n",
              "      <th>4</th>\n",
              "      <td>4</td>\n",
              "      <td>53</td>\n",
              "      <td>male</td>\n",
              "      <td>2</td>\n",
              "      <td>free</td>\n",
              "      <td>little</td>\n",
              "      <td>little</td>\n",
              "      <td>4870</td>\n",
              "      <td>24</td>\n",
              "      <td>car</td>\n",
              "    </tr>\n",
              "  </tbody>\n",
              "</table>\n",
              "</div>"
            ]
          },
          "metadata": {},
          "execution_count": 21
        }
      ],
      "source": [
        "df.head()"
      ]
    },
    {
      "cell_type": "code",
      "execution_count": null,
      "metadata": {
        "colab": {
          "base_uri": "https://localhost:8080/"
        },
        "id": "XdmX5pIYYa_X",
        "outputId": "f08b2ece-33bb-4980-f955-faeef6d2b878"
      },
      "outputs": [
        {
          "output_type": "stream",
          "name": "stdout",
          "text": [
            "<class 'pyspark.pandas.frame.DataFrame'>\n",
            "Int64Index: 1000 entries, 0 to 999\n",
            "Data columns (total 10 columns):\n",
            " #   Column            Non-Null Count  Dtype \n",
            "---  ------            --------------  ----- \n",
            " 0   id                1000 non-null   int32 \n",
            " 1   Age               1000 non-null   int32 \n",
            " 2   Sex               1000 non-null   object\n",
            " 3   Job               1000 non-null   int32 \n",
            " 4   Housing           1000 non-null   object\n",
            " 5   Saving_accounts   1000 non-null   object\n",
            " 6   Checking_account  1000 non-null   object\n",
            " 7   Credit_amount     1000 non-null   int32 \n",
            " 8   Duration          1000 non-null   int32 \n",
            " 9   Purpose           1000 non-null   object\n",
            "dtypes: int32(5), object(5)"
          ]
        }
      ],
      "source": [
        "df.info()"
      ]
    },
    {
      "cell_type": "code",
      "execution_count": null,
      "metadata": {
        "colab": {
          "base_uri": "https://localhost:8080/"
        },
        "id": "H1ceP8zCYa_X",
        "outputId": "4bab6fb3-e051-4e23-96ca-ddce604871f4"
      },
      "outputs": [
        {
          "output_type": "execute_result",
          "data": {
            "text/plain": [
              "35.546"
            ]
          },
          "metadata": {},
          "execution_count": 23
        }
      ],
      "source": [
        "# Средний возраст заемщиков \n",
        "df['Age'].mean()"
      ]
    },
    {
      "cell_type": "code",
      "execution_count": null,
      "metadata": {
        "colab": {
          "base_uri": "https://localhost:8080/",
          "height": 300
        },
        "id": "F-NxNhymYa_X",
        "outputId": "f8919e5a-0e65-40ca-f8e3-19c2fb144d8f"
      },
      "outputs": [
        {
          "output_type": "execute_result",
          "data": {
            "text/plain": [
              "                id          Age          Job  Credit_amount     Duration\n",
              "count  1000.000000  1000.000000  1000.000000    1000.000000  1000.000000\n",
              "mean    499.500000    35.546000     1.904000    3271.258000    20.903000\n",
              "std     288.819436    11.375469     0.653614    2822.736876    12.058814\n",
              "min       0.000000    19.000000     0.000000     250.000000     4.000000\n",
              "25%     249.000000    27.000000     2.000000    1364.000000    12.000000\n",
              "50%     499.000000    33.000000     2.000000    2319.000000    18.000000\n",
              "75%     749.000000    42.000000     2.000000    3972.000000    24.000000\n",
              "max     999.000000    75.000000     3.000000   18424.000000    72.000000"
            ],
            "text/html": [
              "<div>\n",
              "<style scoped>\n",
              "    .dataframe tbody tr th:only-of-type {\n",
              "        vertical-align: middle;\n",
              "    }\n",
              "\n",
              "    .dataframe tbody tr th {\n",
              "        vertical-align: top;\n",
              "    }\n",
              "\n",
              "    .dataframe thead th {\n",
              "        text-align: right;\n",
              "    }\n",
              "</style>\n",
              "<table border=\"1\" class=\"dataframe\">\n",
              "  <thead>\n",
              "    <tr style=\"text-align: right;\">\n",
              "      <th></th>\n",
              "      <th>id</th>\n",
              "      <th>Age</th>\n",
              "      <th>Job</th>\n",
              "      <th>Credit_amount</th>\n",
              "      <th>Duration</th>\n",
              "    </tr>\n",
              "  </thead>\n",
              "  <tbody>\n",
              "    <tr>\n",
              "      <th>count</th>\n",
              "      <td>1000.000000</td>\n",
              "      <td>1000.000000</td>\n",
              "      <td>1000.000000</td>\n",
              "      <td>1000.000000</td>\n",
              "      <td>1000.000000</td>\n",
              "    </tr>\n",
              "    <tr>\n",
              "      <th>mean</th>\n",
              "      <td>499.500000</td>\n",
              "      <td>35.546000</td>\n",
              "      <td>1.904000</td>\n",
              "      <td>3271.258000</td>\n",
              "      <td>20.903000</td>\n",
              "    </tr>\n",
              "    <tr>\n",
              "      <th>std</th>\n",
              "      <td>288.819436</td>\n",
              "      <td>11.375469</td>\n",
              "      <td>0.653614</td>\n",
              "      <td>2822.736876</td>\n",
              "      <td>12.058814</td>\n",
              "    </tr>\n",
              "    <tr>\n",
              "      <th>min</th>\n",
              "      <td>0.000000</td>\n",
              "      <td>19.000000</td>\n",
              "      <td>0.000000</td>\n",
              "      <td>250.000000</td>\n",
              "      <td>4.000000</td>\n",
              "    </tr>\n",
              "    <tr>\n",
              "      <th>25%</th>\n",
              "      <td>249.000000</td>\n",
              "      <td>27.000000</td>\n",
              "      <td>2.000000</td>\n",
              "      <td>1364.000000</td>\n",
              "      <td>12.000000</td>\n",
              "    </tr>\n",
              "    <tr>\n",
              "      <th>50%</th>\n",
              "      <td>499.000000</td>\n",
              "      <td>33.000000</td>\n",
              "      <td>2.000000</td>\n",
              "      <td>2319.000000</td>\n",
              "      <td>18.000000</td>\n",
              "    </tr>\n",
              "    <tr>\n",
              "      <th>75%</th>\n",
              "      <td>749.000000</td>\n",
              "      <td>42.000000</td>\n",
              "      <td>2.000000</td>\n",
              "      <td>3972.000000</td>\n",
              "      <td>24.000000</td>\n",
              "    </tr>\n",
              "    <tr>\n",
              "      <th>max</th>\n",
              "      <td>999.000000</td>\n",
              "      <td>75.000000</td>\n",
              "      <td>3.000000</td>\n",
              "      <td>18424.000000</td>\n",
              "      <td>72.000000</td>\n",
              "    </tr>\n",
              "  </tbody>\n",
              "</table>\n",
              "</div>"
            ]
          },
          "metadata": {},
          "execution_count": 24
        }
      ],
      "source": [
        "# Статистика по всем числовым колонкам\n",
        "df.describe()"
      ]
    },
    {
      "cell_type": "markdown",
      "metadata": {
        "id": "t4k8SwtMYa_Y"
      },
      "source": [
        "### Индексация и фильтрация данных"
      ]
    },
    {
      "cell_type": "code",
      "execution_count": null,
      "metadata": {
        "colab": {
          "base_uri": "https://localhost:8080/",
          "height": 206
        },
        "id": "_5GH1pOsYa_Y",
        "outputId": "58d76ad9-3d8c-4659-bde6-e6cfd6fe090b"
      },
      "outputs": [
        {
          "output_type": "execute_result",
          "data": {
            "text/plain": [
              "   id  Age     Sex  Job Housing Saving_accounts Checking_account  Credit_amount  Duration              Purpose\n",
              "1   1   22  female    2     own          little         moderate           5951        48             radio/TV\n",
              "3   3   45    male    2    free          little           little           7882        42  furniture/equipment\n",
              "5   5   35    male    1    free              NA               NA           9055        36            education\n",
              "7   7   35    male    3    rent          little         moderate           6948        36                  car\n",
              "9   9   28    male    3     own          little         moderate           5234        30                  car"
            ],
            "text/html": [
              "<div>\n",
              "<style scoped>\n",
              "    .dataframe tbody tr th:only-of-type {\n",
              "        vertical-align: middle;\n",
              "    }\n",
              "\n",
              "    .dataframe tbody tr th {\n",
              "        vertical-align: top;\n",
              "    }\n",
              "\n",
              "    .dataframe thead th {\n",
              "        text-align: right;\n",
              "    }\n",
              "</style>\n",
              "<table border=\"1\" class=\"dataframe\">\n",
              "  <thead>\n",
              "    <tr style=\"text-align: right;\">\n",
              "      <th></th>\n",
              "      <th>id</th>\n",
              "      <th>Age</th>\n",
              "      <th>Sex</th>\n",
              "      <th>Job</th>\n",
              "      <th>Housing</th>\n",
              "      <th>Saving_accounts</th>\n",
              "      <th>Checking_account</th>\n",
              "      <th>Credit_amount</th>\n",
              "      <th>Duration</th>\n",
              "      <th>Purpose</th>\n",
              "    </tr>\n",
              "  </thead>\n",
              "  <tbody>\n",
              "    <tr>\n",
              "      <th>1</th>\n",
              "      <td>1</td>\n",
              "      <td>22</td>\n",
              "      <td>female</td>\n",
              "      <td>2</td>\n",
              "      <td>own</td>\n",
              "      <td>little</td>\n",
              "      <td>moderate</td>\n",
              "      <td>5951</td>\n",
              "      <td>48</td>\n",
              "      <td>radio/TV</td>\n",
              "    </tr>\n",
              "    <tr>\n",
              "      <th>3</th>\n",
              "      <td>3</td>\n",
              "      <td>45</td>\n",
              "      <td>male</td>\n",
              "      <td>2</td>\n",
              "      <td>free</td>\n",
              "      <td>little</td>\n",
              "      <td>little</td>\n",
              "      <td>7882</td>\n",
              "      <td>42</td>\n",
              "      <td>furniture/equipment</td>\n",
              "    </tr>\n",
              "    <tr>\n",
              "      <th>5</th>\n",
              "      <td>5</td>\n",
              "      <td>35</td>\n",
              "      <td>male</td>\n",
              "      <td>1</td>\n",
              "      <td>free</td>\n",
              "      <td>NA</td>\n",
              "      <td>NA</td>\n",
              "      <td>9055</td>\n",
              "      <td>36</td>\n",
              "      <td>education</td>\n",
              "    </tr>\n",
              "    <tr>\n",
              "      <th>7</th>\n",
              "      <td>7</td>\n",
              "      <td>35</td>\n",
              "      <td>male</td>\n",
              "      <td>3</td>\n",
              "      <td>rent</td>\n",
              "      <td>little</td>\n",
              "      <td>moderate</td>\n",
              "      <td>6948</td>\n",
              "      <td>36</td>\n",
              "      <td>car</td>\n",
              "    </tr>\n",
              "    <tr>\n",
              "      <th>9</th>\n",
              "      <td>9</td>\n",
              "      <td>28</td>\n",
              "      <td>male</td>\n",
              "      <td>3</td>\n",
              "      <td>own</td>\n",
              "      <td>little</td>\n",
              "      <td>moderate</td>\n",
              "      <td>5234</td>\n",
              "      <td>30</td>\n",
              "      <td>car</td>\n",
              "    </tr>\n",
              "  </tbody>\n",
              "</table>\n",
              "</div>"
            ]
          },
          "metadata": {},
          "execution_count": 25
        }
      ],
      "source": [
        "# Индексация python slices \n",
        "df[1:11:2]"
      ]
    },
    {
      "cell_type": "code",
      "execution_count": null,
      "metadata": {
        "id": "KoMPrQgXYa_Y"
      },
      "outputs": [],
      "source": [
        "# Фильтрация по условию\n",
        "df[df[\"Sex\"] == 'male']"
      ]
    },
    {
      "cell_type": "code",
      "execution_count": null,
      "metadata": {
        "colab": {
          "base_uri": "https://localhost:8080/"
        },
        "id": "gbtHsBdYYa_Y",
        "outputId": "088219e9-931f-4b88-f6bf-65ab9e3dab13"
      },
      "outputs": [
        {
          "output_type": "execute_result",
          "data": {
            "text/plain": [
              "3448.040579710145"
            ]
          },
          "metadata": {},
          "execution_count": 27
        }
      ],
      "source": [
        "# Какой средний размер кредита у заемщиков мужчин?\n",
        "df[df[\"Sex\"] == 'male']['Credit_amount'].mean()"
      ]
    },
    {
      "cell_type": "code",
      "execution_count": null,
      "metadata": {
        "colab": {
          "base_uri": "https://localhost:8080/"
        },
        "id": "tuTU8uTtYa_Y",
        "outputId": "66930554-01c5-456a-9472-f1f482882b55"
      },
      "outputs": [
        {
          "output_type": "execute_result",
          "data": {
            "text/plain": [
              "2877.7741935483873"
            ]
          },
          "metadata": {},
          "execution_count": 28
        }
      ],
      "source": [
        "# Какой средний размер кредита у заемщиков женщин?\n",
        "df[df[\"Sex\"] == 'female']['Credit_amount'].mean()"
      ]
    },
    {
      "cell_type": "markdown",
      "metadata": {
        "id": "vFrhRP9fYa_Y"
      },
      "source": [
        "### Группировка данных"
      ]
    },
    {
      "cell_type": "code",
      "execution_count": null,
      "metadata": {
        "colab": {
          "base_uri": "https://localhost:8080/"
        },
        "id": "Xpvi50b9Ya_Y",
        "outputId": "970d11ce-31f3-4955-d785-e8327d7e723c"
      },
      "outputs": [
        {
          "output_type": "execute_result",
          "data": {
            "text/plain": [
              "<pyspark.sql.group.GroupedData at 0x7f0af8822650>"
            ]
          },
          "metadata": {},
          "execution_count": 53
        }
      ],
      "source": [
        "# Группировка разделяет df на несколько частей, в которых значения заданной колонки будут одинаковыми\n",
        "df.groupby('Sex')"
      ]
    },
    {
      "cell_type": "code",
      "execution_count": null,
      "metadata": {
        "colab": {
          "base_uri": "https://localhost:8080/"
        },
        "id": "yyRGyOOQYa_Y",
        "outputId": "1ce56f88-32fe-4fb6-f039-a5897d48b143"
      },
      "outputs": [
        {
          "output_type": "execute_result",
          "data": {
            "text/plain": [
              "<pyspark.pandas.groupby.SeriesGroupBy at 0x7f0afa52b8d0>"
            ]
          },
          "metadata": {},
          "execution_count": 30
        }
      ],
      "source": [
        "# Можно указать какие колонки нас интересуют \n",
        "df.groupby('Sex')['Credit_amount']"
      ]
    },
    {
      "cell_type": "code",
      "execution_count": null,
      "metadata": {
        "colab": {
          "base_uri": "https://localhost:8080/"
        },
        "id": "ctV2zxg6Ya_Z",
        "outputId": "9b02da48-19d0-4c4c-f933-d5b4ba77a801"
      },
      "outputs": [
        {
          "output_type": "execute_result",
          "data": {
            "text/plain": [
              "Sex\n",
              "female    2877.774194\n",
              "male      3448.040580\n",
              "Name: Credit_amount, dtype: float64"
            ]
          },
          "metadata": {},
          "execution_count": 31
        }
      ],
      "source": [
        "# В конце группировки нужно указать функцию\n",
        "df.groupby('Sex')['Credit_amount'].mean()"
      ]
    },
    {
      "cell_type": "markdown",
      "metadata": {
        "id": "lA81VdodYa_Z"
      },
      "source": [
        "### Визуализация"
      ]
    },
    {
      "cell_type": "code",
      "execution_count": null,
      "metadata": {
        "colab": {
          "base_uri": "https://localhost:8080/",
          "height": 542
        },
        "id": "jPWMtaOdYa_Z",
        "outputId": "872184d9-6dd2-4bef-fd20-6a76bd4e4feb"
      },
      "outputs": [
        {
          "output_type": "display_data",
          "data": {
            "text/html": [
              "<html>\n",
              "<head><meta charset=\"utf-8\" /></head>\n",
              "<body>\n",
              "    <div>            <script src=\"https://cdnjs.cloudflare.com/ajax/libs/mathjax/2.7.5/MathJax.js?config=TeX-AMS-MML_SVG\"></script><script type=\"text/javascript\">if (window.MathJax) {MathJax.Hub.Config({SVG: {font: \"STIX-Web\"}});}</script>                <script type=\"text/javascript\">window.PlotlyConfig = {MathJaxConfig: 'local'};</script>\n",
              "        <script src=\"https://cdn.plot.ly/plotly-2.8.3.min.js\"></script>                <div id=\"95f3df23-ffd6-4aad-9187-320462ac4f47\" class=\"plotly-graph-div\" style=\"height:525px; width:100%;\"></div>            <script type=\"text/javascript\">                                    window.PLOTLYENV=window.PLOTLYENV || {};                                    if (document.getElementById(\"95f3df23-ffd6-4aad-9187-320462ac4f47\")) {                    Plotly.newPlot(                        \"95f3df23-ffd6-4aad-9187-320462ac4f47\",                        [{\"hovertemplate\":\"variable=Age<br>value=%{text}<br>count=%{y}\",\"name\":\"Age\",\"text\":[\"[19.0, 24.6)\",\"[24.6, 30.2)\",\"[30.2, 35.8)\",\"[35.8, 41.4)\",\"[41.4, 47.0)\",\"[47.0, 52.6)\",\"[52.6, 58.2)\",\"[58.2, 63.8)\",\"[63.8, 69.4)\",\"[69.4, 75.0]\"],\"x\":[21.8,27.4,33.0,38.599999999999994,44.2,49.8,55.39999999999999,61.0,66.6,72.2],\"y\":[149,262,177,155,89,72,42,26,21,7],\"type\":\"bar\"}],                        {\"barmode\":\"stack\",\"template\":{\"data\":{\"bar\":[{\"error_x\":{\"color\":\"#2a3f5f\"},\"error_y\":{\"color\":\"#2a3f5f\"},\"marker\":{\"line\":{\"color\":\"#E5ECF6\",\"width\":0.5},\"pattern\":{\"fillmode\":\"overlay\",\"size\":10,\"solidity\":0.2}},\"type\":\"bar\"}],\"barpolar\":[{\"marker\":{\"line\":{\"color\":\"#E5ECF6\",\"width\":0.5},\"pattern\":{\"fillmode\":\"overlay\",\"size\":10,\"solidity\":0.2}},\"type\":\"barpolar\"}],\"carpet\":[{\"aaxis\":{\"endlinecolor\":\"#2a3f5f\",\"gridcolor\":\"white\",\"linecolor\":\"white\",\"minorgridcolor\":\"white\",\"startlinecolor\":\"#2a3f5f\"},\"baxis\":{\"endlinecolor\":\"#2a3f5f\",\"gridcolor\":\"white\",\"linecolor\":\"white\",\"minorgridcolor\":\"white\",\"startlinecolor\":\"#2a3f5f\"},\"type\":\"carpet\"}],\"choropleth\":[{\"colorbar\":{\"outlinewidth\":0,\"ticks\":\"\"},\"type\":\"choropleth\"}],\"contour\":[{\"colorbar\":{\"outlinewidth\":0,\"ticks\":\"\"},\"colorscale\":[[0.0,\"#0d0887\"],[0.1111111111111111,\"#46039f\"],[0.2222222222222222,\"#7201a8\"],[0.3333333333333333,\"#9c179e\"],[0.4444444444444444,\"#bd3786\"],[0.5555555555555556,\"#d8576b\"],[0.6666666666666666,\"#ed7953\"],[0.7777777777777778,\"#fb9f3a\"],[0.8888888888888888,\"#fdca26\"],[1.0,\"#f0f921\"]],\"type\":\"contour\"}],\"contourcarpet\":[{\"colorbar\":{\"outlinewidth\":0,\"ticks\":\"\"},\"type\":\"contourcarpet\"}],\"heatmap\":[{\"colorbar\":{\"outlinewidth\":0,\"ticks\":\"\"},\"colorscale\":[[0.0,\"#0d0887\"],[0.1111111111111111,\"#46039f\"],[0.2222222222222222,\"#7201a8\"],[0.3333333333333333,\"#9c179e\"],[0.4444444444444444,\"#bd3786\"],[0.5555555555555556,\"#d8576b\"],[0.6666666666666666,\"#ed7953\"],[0.7777777777777778,\"#fb9f3a\"],[0.8888888888888888,\"#fdca26\"],[1.0,\"#f0f921\"]],\"type\":\"heatmap\"}],\"heatmapgl\":[{\"colorbar\":{\"outlinewidth\":0,\"ticks\":\"\"},\"colorscale\":[[0.0,\"#0d0887\"],[0.1111111111111111,\"#46039f\"],[0.2222222222222222,\"#7201a8\"],[0.3333333333333333,\"#9c179e\"],[0.4444444444444444,\"#bd3786\"],[0.5555555555555556,\"#d8576b\"],[0.6666666666666666,\"#ed7953\"],[0.7777777777777778,\"#fb9f3a\"],[0.8888888888888888,\"#fdca26\"],[1.0,\"#f0f921\"]],\"type\":\"heatmapgl\"}],\"histogram\":[{\"marker\":{\"pattern\":{\"fillmode\":\"overlay\",\"size\":10,\"solidity\":0.2}},\"type\":\"histogram\"}],\"histogram2d\":[{\"colorbar\":{\"outlinewidth\":0,\"ticks\":\"\"},\"colorscale\":[[0.0,\"#0d0887\"],[0.1111111111111111,\"#46039f\"],[0.2222222222222222,\"#7201a8\"],[0.3333333333333333,\"#9c179e\"],[0.4444444444444444,\"#bd3786\"],[0.5555555555555556,\"#d8576b\"],[0.6666666666666666,\"#ed7953\"],[0.7777777777777778,\"#fb9f3a\"],[0.8888888888888888,\"#fdca26\"],[1.0,\"#f0f921\"]],\"type\":\"histogram2d\"}],\"histogram2dcontour\":[{\"colorbar\":{\"outlinewidth\":0,\"ticks\":\"\"},\"colorscale\":[[0.0,\"#0d0887\"],[0.1111111111111111,\"#46039f\"],[0.2222222222222222,\"#7201a8\"],[0.3333333333333333,\"#9c179e\"],[0.4444444444444444,\"#bd3786\"],[0.5555555555555556,\"#d8576b\"],[0.6666666666666666,\"#ed7953\"],[0.7777777777777778,\"#fb9f3a\"],[0.8888888888888888,\"#fdca26\"],[1.0,\"#f0f921\"]],\"type\":\"histogram2dcontour\"}],\"mesh3d\":[{\"colorbar\":{\"outlinewidth\":0,\"ticks\":\"\"},\"type\":\"mesh3d\"}],\"parcoords\":[{\"line\":{\"colorbar\":{\"outlinewidth\":0,\"ticks\":\"\"}},\"type\":\"parcoords\"}],\"pie\":[{\"automargin\":true,\"type\":\"pie\"}],\"scatter\":[{\"marker\":{\"colorbar\":{\"outlinewidth\":0,\"ticks\":\"\"}},\"type\":\"scatter\"}],\"scatter3d\":[{\"line\":{\"colorbar\":{\"outlinewidth\":0,\"ticks\":\"\"}},\"marker\":{\"colorbar\":{\"outlinewidth\":0,\"ticks\":\"\"}},\"type\":\"scatter3d\"}],\"scattercarpet\":[{\"marker\":{\"colorbar\":{\"outlinewidth\":0,\"ticks\":\"\"}},\"type\":\"scattercarpet\"}],\"scattergeo\":[{\"marker\":{\"colorbar\":{\"outlinewidth\":0,\"ticks\":\"\"}},\"type\":\"scattergeo\"}],\"scattergl\":[{\"marker\":{\"colorbar\":{\"outlinewidth\":0,\"ticks\":\"\"}},\"type\":\"scattergl\"}],\"scattermapbox\":[{\"marker\":{\"colorbar\":{\"outlinewidth\":0,\"ticks\":\"\"}},\"type\":\"scattermapbox\"}],\"scatterpolar\":[{\"marker\":{\"colorbar\":{\"outlinewidth\":0,\"ticks\":\"\"}},\"type\":\"scatterpolar\"}],\"scatterpolargl\":[{\"marker\":{\"colorbar\":{\"outlinewidth\":0,\"ticks\":\"\"}},\"type\":\"scatterpolargl\"}],\"scatterternary\":[{\"marker\":{\"colorbar\":{\"outlinewidth\":0,\"ticks\":\"\"}},\"type\":\"scatterternary\"}],\"surface\":[{\"colorbar\":{\"outlinewidth\":0,\"ticks\":\"\"},\"colorscale\":[[0.0,\"#0d0887\"],[0.1111111111111111,\"#46039f\"],[0.2222222222222222,\"#7201a8\"],[0.3333333333333333,\"#9c179e\"],[0.4444444444444444,\"#bd3786\"],[0.5555555555555556,\"#d8576b\"],[0.6666666666666666,\"#ed7953\"],[0.7777777777777778,\"#fb9f3a\"],[0.8888888888888888,\"#fdca26\"],[1.0,\"#f0f921\"]],\"type\":\"surface\"}],\"table\":[{\"cells\":{\"fill\":{\"color\":\"#EBF0F8\"},\"line\":{\"color\":\"white\"}},\"header\":{\"fill\":{\"color\":\"#C8D4E3\"},\"line\":{\"color\":\"white\"}},\"type\":\"table\"}]},\"layout\":{\"annotationdefaults\":{\"arrowcolor\":\"#2a3f5f\",\"arrowhead\":0,\"arrowwidth\":1},\"autotypenumbers\":\"strict\",\"coloraxis\":{\"colorbar\":{\"outlinewidth\":0,\"ticks\":\"\"}},\"colorscale\":{\"diverging\":[[0,\"#8e0152\"],[0.1,\"#c51b7d\"],[0.2,\"#de77ae\"],[0.3,\"#f1b6da\"],[0.4,\"#fde0ef\"],[0.5,\"#f7f7f7\"],[0.6,\"#e6f5d0\"],[0.7,\"#b8e186\"],[0.8,\"#7fbc41\"],[0.9,\"#4d9221\"],[1,\"#276419\"]],\"sequential\":[[0.0,\"#0d0887\"],[0.1111111111111111,\"#46039f\"],[0.2222222222222222,\"#7201a8\"],[0.3333333333333333,\"#9c179e\"],[0.4444444444444444,\"#bd3786\"],[0.5555555555555556,\"#d8576b\"],[0.6666666666666666,\"#ed7953\"],[0.7777777777777778,\"#fb9f3a\"],[0.8888888888888888,\"#fdca26\"],[1.0,\"#f0f921\"]],\"sequentialminus\":[[0.0,\"#0d0887\"],[0.1111111111111111,\"#46039f\"],[0.2222222222222222,\"#7201a8\"],[0.3333333333333333,\"#9c179e\"],[0.4444444444444444,\"#bd3786\"],[0.5555555555555556,\"#d8576b\"],[0.6666666666666666,\"#ed7953\"],[0.7777777777777778,\"#fb9f3a\"],[0.8888888888888888,\"#fdca26\"],[1.0,\"#f0f921\"]]},\"colorway\":[\"#636efa\",\"#EF553B\",\"#00cc96\",\"#ab63fa\",\"#FFA15A\",\"#19d3f3\",\"#FF6692\",\"#B6E880\",\"#FF97FF\",\"#FECB52\"],\"font\":{\"color\":\"#2a3f5f\"},\"geo\":{\"bgcolor\":\"white\",\"lakecolor\":\"white\",\"landcolor\":\"#E5ECF6\",\"showlakes\":true,\"showland\":true,\"subunitcolor\":\"white\"},\"hoverlabel\":{\"align\":\"left\"},\"hovermode\":\"closest\",\"mapbox\":{\"style\":\"light\"},\"paper_bgcolor\":\"white\",\"plot_bgcolor\":\"#E5ECF6\",\"polar\":{\"angularaxis\":{\"gridcolor\":\"white\",\"linecolor\":\"white\",\"ticks\":\"\"},\"bgcolor\":\"#E5ECF6\",\"radialaxis\":{\"gridcolor\":\"white\",\"linecolor\":\"white\",\"ticks\":\"\"}},\"scene\":{\"xaxis\":{\"backgroundcolor\":\"#E5ECF6\",\"gridcolor\":\"white\",\"gridwidth\":2,\"linecolor\":\"white\",\"showbackground\":true,\"ticks\":\"\",\"zerolinecolor\":\"white\"},\"yaxis\":{\"backgroundcolor\":\"#E5ECF6\",\"gridcolor\":\"white\",\"gridwidth\":2,\"linecolor\":\"white\",\"showbackground\":true,\"ticks\":\"\",\"zerolinecolor\":\"white\"},\"zaxis\":{\"backgroundcolor\":\"#E5ECF6\",\"gridcolor\":\"white\",\"gridwidth\":2,\"linecolor\":\"white\",\"showbackground\":true,\"ticks\":\"\",\"zerolinecolor\":\"white\"}},\"shapedefaults\":{\"line\":{\"color\":\"#2a3f5f\"}},\"ternary\":{\"aaxis\":{\"gridcolor\":\"white\",\"linecolor\":\"white\",\"ticks\":\"\"},\"baxis\":{\"gridcolor\":\"white\",\"linecolor\":\"white\",\"ticks\":\"\"},\"bgcolor\":\"#E5ECF6\",\"caxis\":{\"gridcolor\":\"white\",\"linecolor\":\"white\",\"ticks\":\"\"}},\"title\":{\"x\":0.05},\"xaxis\":{\"automargin\":true,\"gridcolor\":\"white\",\"linecolor\":\"white\",\"ticks\":\"\",\"title\":{\"standoff\":15},\"zerolinecolor\":\"white\",\"zerolinewidth\":2},\"yaxis\":{\"automargin\":true,\"gridcolor\":\"white\",\"linecolor\":\"white\",\"ticks\":\"\",\"title\":{\"standoff\":15},\"zerolinecolor\":\"white\",\"zerolinewidth\":2}}},\"xaxis\":{\"title\":{\"text\":\"value\"}},\"yaxis\":{\"title\":{\"text\":\"count\"}}},                        {\"responsive\": true}                    ).then(function(){\n",
              "                            \n",
              "var gd = document.getElementById('95f3df23-ffd6-4aad-9187-320462ac4f47');\n",
              "var x = new MutationObserver(function (mutations, observer) {{\n",
              "        var display = window.getComputedStyle(gd).display;\n",
              "        if (!display || display === 'none') {{\n",
              "            console.log([gd, 'removed!']);\n",
              "            Plotly.purge(gd);\n",
              "            observer.disconnect();\n",
              "        }}\n",
              "}});\n",
              "\n",
              "// Listen for the removal of the full notebook cells\n",
              "var notebookContainer = gd.closest('#notebook-container');\n",
              "if (notebookContainer) {{\n",
              "    x.observe(notebookContainer, {childList: true});\n",
              "}}\n",
              "\n",
              "// Listen for the clearing of the current output cell\n",
              "var outputEl = gd.closest('.output');\n",
              "if (outputEl) {{\n",
              "    x.observe(outputEl, {childList: true});\n",
              "}}\n",
              "\n",
              "                        })                };                            </script>        </div>\n",
              "</body>\n",
              "</html>"
            ]
          },
          "metadata": {}
        }
      ],
      "source": [
        "df['Age'].hist()"
      ]
    },
    {
      "cell_type": "code",
      "source": [
        "df['Age'].plot()"
      ],
      "metadata": {
        "colab": {
          "base_uri": "https://localhost:8080/",
          "height": 542
        },
        "id": "q0v3tYUTyR7z",
        "outputId": "6a8ece8d-ddd5-493b-ff54-c6a14f06eb81"
      },
      "execution_count": null,
      "outputs": [
        {
          "output_type": "display_data",
          "data": {
            "text/html": [
              "<html>\n",
              "<head><meta charset=\"utf-8\" /></head>\n",
              "<body>\n",
              "    <div>            <script src=\"https://cdnjs.cloudflare.com/ajax/libs/mathjax/2.7.5/MathJax.js?config=TeX-AMS-MML_SVG\"></script><script type=\"text/javascript\">if (window.MathJax) {MathJax.Hub.Config({SVG: {font: \"STIX-Web\"}});}</script>                <script type=\"text/javascript\">window.PlotlyConfig = {MathJaxConfig: 'local'};</script>\n",
              "        <script src=\"https://cdn.plot.ly/plotly-2.8.3.min.js\"></script>                <div id=\"e66f6079-b6da-437b-9eae-3d2cc08a13e0\" class=\"plotly-graph-div\" style=\"height:525px; width:100%;\"></div>            <script type=\"text/javascript\">                                    window.PLOTLYENV=window.PLOTLYENV || {};                                    if (document.getElementById(\"e66f6079-b6da-437b-9eae-3d2cc08a13e0\")) {                    Plotly.newPlot(                        \"e66f6079-b6da-437b-9eae-3d2cc08a13e0\",                        [{\"hovertemplate\":\"variable=Age<br>index=%{x}<br>value=%{y}<extra></extra>\",\"legendgroup\":\"Age\",\"line\":{\"color\":\"#636efa\",\"dash\":\"solid\"},\"marker\":{\"symbol\":\"circle\"},\"mode\":\"lines\",\"name\":\"Age\",\"orientation\":\"v\",\"showlegend\":true,\"x\":[0,1,2,3,4,5,6,7,8,9,10,11,12,13,14,15,16,17,18,19,20,21,22,23,24,25,26,27,28,29,30,31,32,33,34,35,36,37,38,39,40,41,42,43,44,45,46,47,48,49,50,51,52,53,54,55,56,57,58,59,60,61,62,63,64,65,66,67,68,69,70,71,72,73,74,75,76,77,78,79,80,81,82,83,84,85,86,87,88,89,90,91,92,93,94,95,96,97,98,99,100,101,102,103,104,105,106,107,108,109,110,111,112,113,114,115,116,117,118,119,120,121,122,123,124,125,126,127,128,129,130,131,132,133,134,135,136,137,138,139,140,141,142,143,144,145,146,147,148,149,150,151,152,153,154,155,156,157,158,159,160,161,162,163,164,165,166,167,168,169,170,171,172,173,174,175,176,177,178,179,180,181,182,183,184,185,186,187,188,189,190,191,192,193,194,195,196,197,198,199,200,201,202,203,204,205,206,207,208,209,210,211,212,213,214,215,216,217,218,219,220,221,222,223,224,225,226,227,228,229,230,231,232,233,234,235,236,237,238,239,240,241,242,243,244,245,246,247,248,249,250,251,252,253,254,255,256,257,258,259,260,261,262,263,264,265,266,267,268,269,270,271,272,273,274,275,276,277,278,279,280,281,282,283,284,285,286,287,288,289,290,291,292,293,294,295,296,297,298,299,300,301,302,303,304,305,306,307,308,309,310,311,312,313,314,315,316,317,318,319,320,321,322,323,324,325,326,327,328,329,330,331,332,333,334,335,336,337,338,339,340,341,342,343,344,345,346,347,348,349,350,351,352,353,354,355,356,357,358,359,360,361,362,363,364,365,366,367,368,369,370,371,372,373,374,375,376,377,378,379,380,381,382,383,384,385,386,387,388,389,390,391,392,393,394,395,396,397,398,399,400,401,402,403,404,405,406,407,408,409,410,411,412,413,414,415,416,417,418,419,420,421,422,423,424,425,426,427,428,429,430,431,432,433,434,435,436,437,438,439,440,441,442,443,444,445,446,447,448,449,450,451,452,453,454,455,456,457,458,459,460,461,462,463,464,465,466,467,468,469,470,471,472,473,474,475,476,477,478,479,480,481,482,483,484,485,486,487,488,489,490,491,492,493,494,495,496,497,498,499,500,501,502,503,504,505,506,507,508,509,510,511,512,513,514,515,516,517,518,519,520,521,522,523,524,525,526,527,528,529,530,531,532,533,534,535,536,537,538,539,540,541,542,543,544,545,546,547,548,549,550,551,552,553,554,555,556,557,558,559,560,561,562,563,564,565,566,567,568,569,570,571,572,573,574,575,576,577,578,579,580,581,582,583,584,585,586,587,588,589,590,591,592,593,594,595,596,597,598,599,600,601,602,603,604,605,606,607,608,609,610,611,612,613,614,615,616,617,618,619,620,621,622,623,624,625,626,627,628,629,630,631,632,633,634,635,636,637,638,639,640,641,642,643,644,645,646,647,648,649,650,651,652,653,654,655,656,657,658,659,660,661,662,663,664,665,666,667,668,669,670,671,672,673,674,675,676,677,678,679,680,681,682,683,684,685,686,687,688,689,690,691,692,693,694,695,696,697,698,699,700,701,702,703,704,705,706,707,708,709,710,711,712,713,714,715,716,717,718,719,720,721,722,723,724,725,726,727,728,729,730,731,732,733,734,735,736,737,738,739,740,741,742,743,744,745,746,747,748,749,750,751,752,753,754,755,756,757,758,759,760,761,762,763,764,765,766,767,768,769,770,771,772,773,774,775,776,777,778,779,780,781,782,783,784,785,786,787,788,789,790,791,792,793,794,795,796,797,798,799,800,801,802,803,804,805,806,807,808,809,810,811,812,813,814,815,816,817,818,819,820,821,822,823,824,825,826,827,828,829,830,831,832,833,834,835,836,837,838,839,840,841,842,843,844,845,846,847,848,849,850,851,852,853,854,855,856,857,858,859,860,861,862,863,864,865,866,867,868,869,870,871,872,873,874,875,876,877,878,879,880,881,882,883,884,885,886,887,888,889,890,891,892,893,894,895,896,897,898,899,900,901,902,903,904,905,906,907,908,909,910,911,912,913,914,915,916,917,918,919,920,921,922,923,924,925,926,927,928,929,930,931,932,933,934,935,936,937,938,939,940,941,942,943,944,945,946,947,948,949,950,951,952,953,954,955,956,957,958,959,960,961,962,963,964,965,966,967,968,969,970,971,972,973,974,975,976,977,978,979,980,981,982,983,984,985,986,987,988,989,990,991,992,993,994,995,996,997,998,999],\"xaxis\":\"x\",\"y\":[67,22,49,45,53,35,53,35,61,28,25,24,22,60,28,32,53,25,44,31,48,44,48,44,26,36,39,42,34,63,36,27,30,57,33,25,31,37,37,24,30,26,44,24,58,35,39,23,39,28,29,30,25,31,57,26,52,31,23,23,27,50,61,25,26,48,29,22,37,25,30,46,51,41,40,66,34,51,39,22,44,47,24,58,52,29,27,47,30,28,56,54,33,20,54,58,61,34,36,36,41,24,24,35,26,39,39,32,30,35,31,23,28,25,35,47,30,27,23,36,25,41,24,63,27,30,40,30,34,29,24,29,27,47,21,38,27,66,35,44,27,30,27,22,23,30,39,51,28,46,42,38,24,29,36,20,48,45,38,34,36,30,36,70,36,32,33,20,25,31,33,26,34,33,26,53,42,52,31,65,28,30,40,50,36,31,74,68,20,33,54,34,36,29,21,34,28,27,36,40,52,27,26,21,38,38,43,26,21,55,33,45,50,66,51,39,31,23,24,64,26,23,30,32,30,27,27,53,22,22,26,51,35,25,42,30,23,61,35,39,29,51,24,27,35,25,52,35,26,22,39,46,24,35,24,27,35,29,23,57,27,55,36,57,32,37,36,38,45,25,32,37,36,28,34,32,26,49,32,29,23,50,49,63,37,35,26,31,49,48,26,28,44,56,46,26,20,45,43,32,54,42,37,49,44,33,24,33,24,22,40,25,26,25,29,31,38,48,32,27,28,32,34,28,36,39,49,34,31,28,75,30,24,24,23,44,23,24,28,31,24,26,25,33,37,43,23,23,34,32,23,29,38,28,46,23,49,26,28,23,61,37,36,21,25,36,27,22,42,40,36,33,23,63,60,37,34,36,57,52,39,38,25,26,26,25,21,40,27,27,30,19,39,31,31,32,55,46,46,43,39,28,27,27,43,22,43,27,26,28,20,35,42,40,35,35,33,23,31,33,20,30,47,34,25,21,29,46,20,55,74,29,36,33,25,25,23,37,65,26,39,30,29,41,30,41,34,35,55,61,30,29,34,35,31,29,36,35,27,32,37,36,34,38,34,63,29,32,26,35,22,23,28,36,33,26,24,25,39,44,23,26,57,30,44,47,52,62,35,26,26,42,27,38,39,20,29,40,32,28,27,42,49,38,24,27,36,34,28,45,26,32,26,20,54,37,40,23,43,36,44,24,53,23,26,30,31,42,31,41,32,28,41,26,25,33,75,37,42,45,23,60,31,34,61,43,37,32,24,35,23,45,34,27,67,22,28,29,27,31,49,24,29,37,37,23,36,34,41,31,23,38,26,22,27,24,27,33,27,27,30,49,26,33,52,20,36,21,47,60,58,42,36,20,40,32,23,36,31,32,45,30,34,28,23,22,74,50,33,45,22,48,29,22,22,48,27,37,21,49,27,32,38,22,65,35,41,29,36,64,28,44,23,19,25,47,28,21,34,26,27,38,40,33,32,27,32,26,38,40,50,37,45,42,35,22,41,37,28,41,23,23,50,35,50,27,34,27,43,47,27,31,42,24,41,26,33,24,64,26,56,37,33,47,31,34,27,30,35,31,25,25,29,44,28,50,29,38,24,40,29,46,47,41,32,35,24,25,25,37,32,35,46,25,27,63,40,32,31,31,34,24,24,66,21,41,47,25,59,36,33,21,44,28,37,29,23,35,45,26,32,23,41,22,30,28,23,37,26,33,49,23,23,25,55,32,74,39,31,35,59,24,24,30,27,40,31,31,28,63,26,25,36,52,66,25,37,25,38,67,25,60,31,23,60,35,40,38,50,27,39,41,27,51,32,22,51,22,54,35,54,48,24,35,24,24,26,65,55,26,26,28,24,54,46,54,62,24,43,26,27,24,41,47,35,30,33,36,47,38,44,23,29,42,25,48,21,23,63,46,29,28,23,50,47,35,68,28,59,57,33,43,35,32,45,33,40,28,29,26,27,28,35,32,25,20,27,42,37,24,40,46,26,24,29,40,36,28,27,36,38,48,36,65,43,53,34,23,34,40,43,46,38,34,29,31,28,35,33,42,43,44,42,40,36,20,24,27,46,33,34,25,25,28,31,32,32,68,33,39,28,37,22,30,55,46,21,39,58,43,24,22,30,42,23,30,28,30,42,46,45,31,31,42,46,30,30,38,43,31,40,24,28,26,29,57,49,37,45,30,30,47,29,35,22,26,23,54,29,40,22,43,29,36,33,57,64,42,47,25,49,33,28,26,30,25,33,64,29,48,37,34,23,30,50,31,40,38,23,27],\"yaxis\":\"y\",\"type\":\"scatter\"}],                        {\"template\":{\"data\":{\"bar\":[{\"error_x\":{\"color\":\"#2a3f5f\"},\"error_y\":{\"color\":\"#2a3f5f\"},\"marker\":{\"line\":{\"color\":\"#E5ECF6\",\"width\":0.5},\"pattern\":{\"fillmode\":\"overlay\",\"size\":10,\"solidity\":0.2}},\"type\":\"bar\"}],\"barpolar\":[{\"marker\":{\"line\":{\"color\":\"#E5ECF6\",\"width\":0.5},\"pattern\":{\"fillmode\":\"overlay\",\"size\":10,\"solidity\":0.2}},\"type\":\"barpolar\"}],\"carpet\":[{\"aaxis\":{\"endlinecolor\":\"#2a3f5f\",\"gridcolor\":\"white\",\"linecolor\":\"white\",\"minorgridcolor\":\"white\",\"startlinecolor\":\"#2a3f5f\"},\"baxis\":{\"endlinecolor\":\"#2a3f5f\",\"gridcolor\":\"white\",\"linecolor\":\"white\",\"minorgridcolor\":\"white\",\"startlinecolor\":\"#2a3f5f\"},\"type\":\"carpet\"}],\"choropleth\":[{\"colorbar\":{\"outlinewidth\":0,\"ticks\":\"\"},\"type\":\"choropleth\"}],\"contour\":[{\"colorbar\":{\"outlinewidth\":0,\"ticks\":\"\"},\"colorscale\":[[0.0,\"#0d0887\"],[0.1111111111111111,\"#46039f\"],[0.2222222222222222,\"#7201a8\"],[0.3333333333333333,\"#9c179e\"],[0.4444444444444444,\"#bd3786\"],[0.5555555555555556,\"#d8576b\"],[0.6666666666666666,\"#ed7953\"],[0.7777777777777778,\"#fb9f3a\"],[0.8888888888888888,\"#fdca26\"],[1.0,\"#f0f921\"]],\"type\":\"contour\"}],\"contourcarpet\":[{\"colorbar\":{\"outlinewidth\":0,\"ticks\":\"\"},\"type\":\"contourcarpet\"}],\"heatmap\":[{\"colorbar\":{\"outlinewidth\":0,\"ticks\":\"\"},\"colorscale\":[[0.0,\"#0d0887\"],[0.1111111111111111,\"#46039f\"],[0.2222222222222222,\"#7201a8\"],[0.3333333333333333,\"#9c179e\"],[0.4444444444444444,\"#bd3786\"],[0.5555555555555556,\"#d8576b\"],[0.6666666666666666,\"#ed7953\"],[0.7777777777777778,\"#fb9f3a\"],[0.8888888888888888,\"#fdca26\"],[1.0,\"#f0f921\"]],\"type\":\"heatmap\"}],\"heatmapgl\":[{\"colorbar\":{\"outlinewidth\":0,\"ticks\":\"\"},\"colorscale\":[[0.0,\"#0d0887\"],[0.1111111111111111,\"#46039f\"],[0.2222222222222222,\"#7201a8\"],[0.3333333333333333,\"#9c179e\"],[0.4444444444444444,\"#bd3786\"],[0.5555555555555556,\"#d8576b\"],[0.6666666666666666,\"#ed7953\"],[0.7777777777777778,\"#fb9f3a\"],[0.8888888888888888,\"#fdca26\"],[1.0,\"#f0f921\"]],\"type\":\"heatmapgl\"}],\"histogram\":[{\"marker\":{\"pattern\":{\"fillmode\":\"overlay\",\"size\":10,\"solidity\":0.2}},\"type\":\"histogram\"}],\"histogram2d\":[{\"colorbar\":{\"outlinewidth\":0,\"ticks\":\"\"},\"colorscale\":[[0.0,\"#0d0887\"],[0.1111111111111111,\"#46039f\"],[0.2222222222222222,\"#7201a8\"],[0.3333333333333333,\"#9c179e\"],[0.4444444444444444,\"#bd3786\"],[0.5555555555555556,\"#d8576b\"],[0.6666666666666666,\"#ed7953\"],[0.7777777777777778,\"#fb9f3a\"],[0.8888888888888888,\"#fdca26\"],[1.0,\"#f0f921\"]],\"type\":\"histogram2d\"}],\"histogram2dcontour\":[{\"colorbar\":{\"outlinewidth\":0,\"ticks\":\"\"},\"colorscale\":[[0.0,\"#0d0887\"],[0.1111111111111111,\"#46039f\"],[0.2222222222222222,\"#7201a8\"],[0.3333333333333333,\"#9c179e\"],[0.4444444444444444,\"#bd3786\"],[0.5555555555555556,\"#d8576b\"],[0.6666666666666666,\"#ed7953\"],[0.7777777777777778,\"#fb9f3a\"],[0.8888888888888888,\"#fdca26\"],[1.0,\"#f0f921\"]],\"type\":\"histogram2dcontour\"}],\"mesh3d\":[{\"colorbar\":{\"outlinewidth\":0,\"ticks\":\"\"},\"type\":\"mesh3d\"}],\"parcoords\":[{\"line\":{\"colorbar\":{\"outlinewidth\":0,\"ticks\":\"\"}},\"type\":\"parcoords\"}],\"pie\":[{\"automargin\":true,\"type\":\"pie\"}],\"scatter\":[{\"marker\":{\"colorbar\":{\"outlinewidth\":0,\"ticks\":\"\"}},\"type\":\"scatter\"}],\"scatter3d\":[{\"line\":{\"colorbar\":{\"outlinewidth\":0,\"ticks\":\"\"}},\"marker\":{\"colorbar\":{\"outlinewidth\":0,\"ticks\":\"\"}},\"type\":\"scatter3d\"}],\"scattercarpet\":[{\"marker\":{\"colorbar\":{\"outlinewidth\":0,\"ticks\":\"\"}},\"type\":\"scattercarpet\"}],\"scattergeo\":[{\"marker\":{\"colorbar\":{\"outlinewidth\":0,\"ticks\":\"\"}},\"type\":\"scattergeo\"}],\"scattergl\":[{\"marker\":{\"colorbar\":{\"outlinewidth\":0,\"ticks\":\"\"}},\"type\":\"scattergl\"}],\"scattermapbox\":[{\"marker\":{\"colorbar\":{\"outlinewidth\":0,\"ticks\":\"\"}},\"type\":\"scattermapbox\"}],\"scatterpolar\":[{\"marker\":{\"colorbar\":{\"outlinewidth\":0,\"ticks\":\"\"}},\"type\":\"scatterpolar\"}],\"scatterpolargl\":[{\"marker\":{\"colorbar\":{\"outlinewidth\":0,\"ticks\":\"\"}},\"type\":\"scatterpolargl\"}],\"scatterternary\":[{\"marker\":{\"colorbar\":{\"outlinewidth\":0,\"ticks\":\"\"}},\"type\":\"scatterternary\"}],\"surface\":[{\"colorbar\":{\"outlinewidth\":0,\"ticks\":\"\"},\"colorscale\":[[0.0,\"#0d0887\"],[0.1111111111111111,\"#46039f\"],[0.2222222222222222,\"#7201a8\"],[0.3333333333333333,\"#9c179e\"],[0.4444444444444444,\"#bd3786\"],[0.5555555555555556,\"#d8576b\"],[0.6666666666666666,\"#ed7953\"],[0.7777777777777778,\"#fb9f3a\"],[0.8888888888888888,\"#fdca26\"],[1.0,\"#f0f921\"]],\"type\":\"surface\"}],\"table\":[{\"cells\":{\"fill\":{\"color\":\"#EBF0F8\"},\"line\":{\"color\":\"white\"}},\"header\":{\"fill\":{\"color\":\"#C8D4E3\"},\"line\":{\"color\":\"white\"}},\"type\":\"table\"}]},\"layout\":{\"annotationdefaults\":{\"arrowcolor\":\"#2a3f5f\",\"arrowhead\":0,\"arrowwidth\":1},\"autotypenumbers\":\"strict\",\"coloraxis\":{\"colorbar\":{\"outlinewidth\":0,\"ticks\":\"\"}},\"colorscale\":{\"diverging\":[[0,\"#8e0152\"],[0.1,\"#c51b7d\"],[0.2,\"#de77ae\"],[0.3,\"#f1b6da\"],[0.4,\"#fde0ef\"],[0.5,\"#f7f7f7\"],[0.6,\"#e6f5d0\"],[0.7,\"#b8e186\"],[0.8,\"#7fbc41\"],[0.9,\"#4d9221\"],[1,\"#276419\"]],\"sequential\":[[0.0,\"#0d0887\"],[0.1111111111111111,\"#46039f\"],[0.2222222222222222,\"#7201a8\"],[0.3333333333333333,\"#9c179e\"],[0.4444444444444444,\"#bd3786\"],[0.5555555555555556,\"#d8576b\"],[0.6666666666666666,\"#ed7953\"],[0.7777777777777778,\"#fb9f3a\"],[0.8888888888888888,\"#fdca26\"],[1.0,\"#f0f921\"]],\"sequentialminus\":[[0.0,\"#0d0887\"],[0.1111111111111111,\"#46039f\"],[0.2222222222222222,\"#7201a8\"],[0.3333333333333333,\"#9c179e\"],[0.4444444444444444,\"#bd3786\"],[0.5555555555555556,\"#d8576b\"],[0.6666666666666666,\"#ed7953\"],[0.7777777777777778,\"#fb9f3a\"],[0.8888888888888888,\"#fdca26\"],[1.0,\"#f0f921\"]]},\"colorway\":[\"#636efa\",\"#EF553B\",\"#00cc96\",\"#ab63fa\",\"#FFA15A\",\"#19d3f3\",\"#FF6692\",\"#B6E880\",\"#FF97FF\",\"#FECB52\"],\"font\":{\"color\":\"#2a3f5f\"},\"geo\":{\"bgcolor\":\"white\",\"lakecolor\":\"white\",\"landcolor\":\"#E5ECF6\",\"showlakes\":true,\"showland\":true,\"subunitcolor\":\"white\"},\"hoverlabel\":{\"align\":\"left\"},\"hovermode\":\"closest\",\"mapbox\":{\"style\":\"light\"},\"paper_bgcolor\":\"white\",\"plot_bgcolor\":\"#E5ECF6\",\"polar\":{\"angularaxis\":{\"gridcolor\":\"white\",\"linecolor\":\"white\",\"ticks\":\"\"},\"bgcolor\":\"#E5ECF6\",\"radialaxis\":{\"gridcolor\":\"white\",\"linecolor\":\"white\",\"ticks\":\"\"}},\"scene\":{\"xaxis\":{\"backgroundcolor\":\"#E5ECF6\",\"gridcolor\":\"white\",\"gridwidth\":2,\"linecolor\":\"white\",\"showbackground\":true,\"ticks\":\"\",\"zerolinecolor\":\"white\"},\"yaxis\":{\"backgroundcolor\":\"#E5ECF6\",\"gridcolor\":\"white\",\"gridwidth\":2,\"linecolor\":\"white\",\"showbackground\":true,\"ticks\":\"\",\"zerolinecolor\":\"white\"},\"zaxis\":{\"backgroundcolor\":\"#E5ECF6\",\"gridcolor\":\"white\",\"gridwidth\":2,\"linecolor\":\"white\",\"showbackground\":true,\"ticks\":\"\",\"zerolinecolor\":\"white\"}},\"shapedefaults\":{\"line\":{\"color\":\"#2a3f5f\"}},\"ternary\":{\"aaxis\":{\"gridcolor\":\"white\",\"linecolor\":\"white\",\"ticks\":\"\"},\"baxis\":{\"gridcolor\":\"white\",\"linecolor\":\"white\",\"ticks\":\"\"},\"bgcolor\":\"#E5ECF6\",\"caxis\":{\"gridcolor\":\"white\",\"linecolor\":\"white\",\"ticks\":\"\"}},\"title\":{\"x\":0.05},\"xaxis\":{\"automargin\":true,\"gridcolor\":\"white\",\"linecolor\":\"white\",\"ticks\":\"\",\"title\":{\"standoff\":15},\"zerolinecolor\":\"white\",\"zerolinewidth\":2},\"yaxis\":{\"automargin\":true,\"gridcolor\":\"white\",\"linecolor\":\"white\",\"ticks\":\"\",\"title\":{\"standoff\":15},\"zerolinecolor\":\"white\",\"zerolinewidth\":2}}},\"xaxis\":{\"anchor\":\"y\",\"domain\":[0.0,1.0],\"title\":{\"text\":\"index\"}},\"yaxis\":{\"anchor\":\"x\",\"domain\":[0.0,1.0],\"title\":{\"text\":\"value\"}},\"legend\":{\"title\":{\"text\":\"variable\"},\"tracegroupgap\":0},\"margin\":{\"t\":60}},                        {\"responsive\": true}                    ).then(function(){\n",
              "                            \n",
              "var gd = document.getElementById('e66f6079-b6da-437b-9eae-3d2cc08a13e0');\n",
              "var x = new MutationObserver(function (mutations, observer) {{\n",
              "        var display = window.getComputedStyle(gd).display;\n",
              "        if (!display || display === 'none') {{\n",
              "            console.log([gd, 'removed!']);\n",
              "            Plotly.purge(gd);\n",
              "            observer.disconnect();\n",
              "        }}\n",
              "}});\n",
              "\n",
              "// Listen for the removal of the full notebook cells\n",
              "var notebookContainer = gd.closest('#notebook-container');\n",
              "if (notebookContainer) {{\n",
              "    x.observe(notebookContainer, {childList: true});\n",
              "}}\n",
              "\n",
              "// Listen for the clearing of the current output cell\n",
              "var outputEl = gd.closest('.output');\n",
              "if (outputEl) {{\n",
              "    x.observe(outputEl, {childList: true});\n",
              "}}\n",
              "\n",
              "                        })                };                            </script>        </div>\n",
              "</body>\n",
              "</html>"
            ]
          },
          "metadata": {}
        }
      ]
    },
    {
      "cell_type": "markdown",
      "metadata": {
        "id": "mtqSyQj7Ya_Z"
      },
      "source": [
        "## 4. Домашнее задание  \n",
        "\n"
      ]
    },
    {
      "cell_type": "markdown",
      "metadata": {
        "id": "a6cnqGGfYa_Z"
      },
      "source": [
        "1. Сколько мужчин и женщин (признак Sex) представлено в этом наборе данных?"
      ]
    },
    {
      "cell_type": "code",
      "execution_count": null,
      "metadata": {
        "id": "lkHvxnFtYa_Z"
      },
      "outputs": [],
      "source": [
        "# Ваш код здесь"
      ]
    },
    {
      "cell_type": "markdown",
      "metadata": {
        "id": "yyC_53NkYa_Z"
      },
      "source": [
        "2. Каков средний возраст (признак Age) женщин?"
      ]
    },
    {
      "cell_type": "code",
      "execution_count": null,
      "metadata": {
        "id": "HJ5SpJWoYa_a"
      },
      "outputs": [],
      "source": [
        "# Ваш код здесь"
      ]
    },
    {
      "cell_type": "markdown",
      "metadata": {
        "id": "cU97DO4lYa_a"
      },
      "source": [
        "3. Какова доля заемщиков с собственным жильем (признак Housing)?"
      ]
    },
    {
      "cell_type": "code",
      "execution_count": null,
      "metadata": {
        "id": "qUk1zqP2Ya_a"
      },
      "outputs": [],
      "source": [
        "# Ваш код здесь"
      ]
    },
    {
      "cell_type": "markdown",
      "metadata": {
        "id": "SSQN8MwDYa_a"
      },
      "source": [
        "4. Каково среднее значение возраста тех, кто имеет высокие накопления (признак Saving_accounts)?"
      ]
    },
    {
      "cell_type": "code",
      "execution_count": null,
      "metadata": {
        "id": "cDYO2YmTYa_a"
      },
      "outputs": [],
      "source": [
        "# Ваш код здесь"
      ]
    },
    {
      "cell_type": "markdown",
      "metadata": {
        "id": "iQ4KUTVaYa_a"
      },
      "source": [
        "5. Каково среднеквадратичное отклонения возраста тех, кто имеет высокие накопления (признак Saving_accounts)?"
      ]
    },
    {
      "cell_type": "code",
      "execution_count": null,
      "metadata": {
        "id": "1F7IjTkxYa_b"
      },
      "outputs": [],
      "source": [
        "# Ваш код здесь"
      ]
    },
    {
      "cell_type": "markdown",
      "metadata": {
        "id": "pkYgZXNNYa_b"
      },
      "source": [
        "6. Выведите гистограмму категорий покупок (признак Purpose) для мужчин и женщин."
      ]
    },
    {
      "cell_type": "code",
      "execution_count": null,
      "metadata": {
        "id": "2BsL7ZjZYa_b"
      },
      "outputs": [],
      "source": [
        "# Ваш код здесь"
      ]
    },
    {
      "cell_type": "markdown",
      "metadata": {
        "id": "Ie7ToPwhYa_b"
      },
      "source": [
        "7. На что чаще всего берутся длинные кредиты (более 24 мес)?"
      ]
    },
    {
      "cell_type": "code",
      "execution_count": null,
      "metadata": {
        "id": "kJfx2rEeYa_b"
      },
      "outputs": [],
      "source": [
        "# Ваш код здесь"
      ]
    },
    {
      "cell_type": "markdown",
      "metadata": {
        "id": "2-6a70YIYa_b"
      },
      "source": [
        "8. Какой средний срок кредита (признак Duration) для заемщиков, имеющих высокие текущие траты (признак Checking_account)?"
      ]
    },
    {
      "cell_type": "code",
      "execution_count": null,
      "metadata": {
        "id": "L77F5vgLYa_b"
      },
      "outputs": [],
      "source": [
        "# Ваш код здесь"
      ]
    },
    {
      "cell_type": "markdown",
      "metadata": {
        "id": "rpmVC_K9Ya_c"
      },
      "source": [
        "9. Какой средний срок кредита (признак Duration) для заемщиков, имеющих низкие текущие траты (признак Checking_account)?"
      ]
    },
    {
      "cell_type": "code",
      "execution_count": null,
      "metadata": {
        "id": "3N-bsaTrYa_c"
      },
      "outputs": [],
      "source": [
        "# Ваш код здесь"
      ]
    },
    {
      "cell_type": "markdown",
      "metadata": {
        "id": "rZeYzZd7Ya_c"
      },
      "source": [
        "10. На какую цель взят самый дорогой кредит?"
      ]
    },
    {
      "cell_type": "code",
      "execution_count": null,
      "metadata": {
        "id": "vwS2NiamYa_c"
      },
      "outputs": [],
      "source": [
        "# Ваш код здесь"
      ]
    }
  ],
  "metadata": {
    "colab": {
      "collapsed_sections": [],
      "name": "CodeLab3_SparkData.ipynb",
      "provenance": []
    },
    "kernelspec": {
      "display_name": "Python 3 (ipykernel)",
      "language": "python",
      "name": "python3"
    },
    "language_info": {
      "codemirror_mode": {
        "name": "ipython",
        "version": 3
      },
      "file_extension": ".py",
      "mimetype": "text/x-python",
      "name": "python",
      "nbconvert_exporter": "python",
      "pygments_lexer": "ipython3",
      "version": "3.8.10"
    }
  },
  "nbformat": 4,
  "nbformat_minor": 0
}