{
 "cells": [
  {
   "cell_type": "markdown",
   "metadata": {},
   "source": [
    "# Технологии обработки больших данных\n",
    "\n",
    "Занятие 2. Знакомство с PySpark \n",
    "\n",
    "1. Установка PySpark на локальной машине\n",
    "2. Базовые классы DataFrame и RDD\n",
    "3. Преобразования данных\n",
    "4. Домашнее задание "
   ]
  },
  {
   "cell_type": "markdown",
   "metadata": {
    "id": "sq8U3BtmhtRx"
   },
   "source": [
    "\n",
    "## 1. Установка PySpark на локальной машине\n",
    "\n",
    "To run spark in Colab, we need to first install all the dependencies in Colab environment:\n",
    "- Java 8 \n",
    "- Apache Spark 3.2.1 with hadoop 3.2, \n",
    "- Findspark to locate the spark in the system. \n",
    "\n",
    "The tools installation can be carried out inside the Jupyter Notebook of the Colab.  \n",
    "Follow the steps to install the dependencies:"
   ]
  },
  {
   "cell_type": "code",
   "execution_count": 1,
   "metadata": {
    "id": "lh5NCoc8fsSO"
   },
   "outputs": [
    {
     "name": "stdout",
     "output_type": "stream",
     "text": [
      "E: Could not open lock file /var/lib/dpkg/lock-frontend - open (13: Permission denied)\r\n",
      "E: Unable to acquire the dpkg frontend lock (/var/lib/dpkg/lock-frontend), are you root?\r\n"
     ]
    }
   ],
   "source": [
    "! apt-get install openjdk-8-jdk-headless -qq > /dev/null"
   ]
  },
  {
   "cell_type": "code",
   "execution_count": 2,
   "metadata": {
    "id": "aQhYpeqENexB"
   },
   "outputs": [
    {
     "name": "stdout",
     "output_type": "stream",
     "text": [
      "^C\r\n"
     ]
    }
   ],
   "source": [
    "! wget -q https://dlcdn.apache.org/spark/spark-3.2.1/spark-3.2.1-bin-hadoop3.2.tgz"
   ]
  },
  {
   "cell_type": "code",
   "execution_count": 3,
   "metadata": {
    "id": "DWPhEGQ4N0To"
   },
   "outputs": [
    {
     "name": "stdout",
     "output_type": "stream",
     "text": [
      "\r\n",
      "gzip: stdin: unexpected end of file\r\n",
      "tar: Unexpected EOF in archive\r\n",
      "tar: Unexpected EOF in archive\r\n",
      "tar: Error is not recoverable: exiting now\r\n"
     ]
    }
   ],
   "source": [
    "! tar xvf spark-3.2.1-bin-hadoop3.2.tgz > /dev/null"
   ]
  },
  {
   "cell_type": "code",
   "execution_count": 4,
   "metadata": {
    "id": "6w2mE3VAAQuf"
   },
   "outputs": [
    {
     "name": "stdout",
     "output_type": "stream",
     "text": [
      "\u001b[33mWARNING: You are using pip version 21.1.2; however, version 22.0.3 is available.\r\n",
      "You should consider upgrading via the '/home/user/ds/PycharmProjects/spark/venv/bin/python -m pip install --upgrade pip' command.\u001b[0m\r\n"
     ]
    }
   ],
   "source": [
    "! pip install -q findspark"
   ]
  },
  {
   "cell_type": "markdown",
   "metadata": {
    "id": "ILheUROOhprv"
   },
   "source": [
    "Now that you installed Spark and Java in Colab, it is time to set the environment path which enables you to run Pyspark in your Colab environment. Set the location of Java and Spark by running the following code:"
   ]
  },
  {
   "cell_type": "code",
   "execution_count": 1,
   "metadata": {
    "id": "v1b8k_OVf2QF"
   },
   "outputs": [],
   "source": [
    "import os\n",
    "os.environ[\"JAVA_HOME\"] = \"/usr/lib/jvm/java-8-openjdk-amd64\"\n",
    "os.environ[\"SPARK_HOME\"] = os.getcwd() + \"/spark-3.2.1-bin-hadoop3.2\""
   ]
  },
  {
   "cell_type": "markdown",
   "metadata": {
    "id": "KwrqMk3HiMiE"
   },
   "source": [
    "Run a local spark session to test your installation:"
   ]
  },
  {
   "cell_type": "code",
   "execution_count": 2,
   "metadata": {
    "id": "9_Uz1NL4gHFx"
   },
   "outputs": [
    {
     "name": "stderr",
     "output_type": "stream",
     "text": [
      "22/03/02 20:19:04 WARN Utils: Your hostname, calc resolves to a loopback address: 127.0.1.1; using 192.168.42.204 instead (on interface usb0)\n",
      "22/03/02 20:19:04 WARN Utils: Set SPARK_LOCAL_IP if you need to bind to another address\n",
      "Using Spark's default log4j profile: org/apache/spark/log4j-defaults.properties\n",
      "Setting default log level to \"WARN\".\n",
      "To adjust logging level use sc.setLogLevel(newLevel). For SparkR, use setLogLevel(newLevel).\n",
      "22/03/02 20:19:05 WARN NativeCodeLoader: Unable to load native-hadoop library for your platform... using builtin-java classes where applicable\n"
     ]
    }
   ],
   "source": [
    "import findspark\n",
    "findspark.init()\n",
    "from pyspark.sql import SparkSession\n",
    "spark = SparkSession.builder.master(\"local[*]\").getOrCreate()"
   ]
  },
  {
   "cell_type": "markdown",
   "metadata": {},
   "source": [
    "![](img/spark_libs.png)"
   ]
  },
  {
   "cell_type": "markdown",
   "metadata": {
    "id": "DS3cVqWkC7gJ"
   },
   "source": [
    "## Базовые классы DataFrame и RDD\n",
    "\n",
    "All code snippets in Python, R or Scala generate identical Java bytecode.\n",
    "\n",
    "PySpark’s primary abstraction is a distributed collection of items called a DataFrame.  \n",
    "We call it DataFrame to be consistent with the data frame concept in Pandas and R.  \n",
    "\n",
    "Let’s make a new DataFrame from the text of the README file in the sample_data directory:"
   ]
  },
  {
   "cell_type": "code",
   "execution_count": 7,
   "metadata": {
    "colab": {
     "base_uri": "https://localhost:8080/"
    },
    "id": "QlMUL-zkBs0N",
    "outputId": "4d8c8886-7d8c-47ae-bfa9-0380f5e78a5b"
   },
   "outputs": [
    {
     "data": {
      "text/plain": [
       "pyspark.sql.dataframe.DataFrame"
      ]
     },
     "execution_count": 7,
     "metadata": {},
     "output_type": "execute_result"
    }
   ],
   "source": [
    "textFile = spark.read.text('sample_data/README.md')\n",
    "type(textFile)"
   ]
  },
  {
   "cell_type": "code",
   "execution_count": 8,
   "metadata": {
    "colab": {
     "base_uri": "https://localhost:8080/"
    },
    "id": "RGeUf6Y-CQ-z",
    "outputId": "cbdcc63a-4f1e-4c0c-d411-b35e5fdcbe2c"
   },
   "outputs": [
    {
     "data": {
      "text/plain": [
       "19"
      ]
     },
     "execution_count": 8,
     "metadata": {},
     "output_type": "execute_result"
    }
   ],
   "source": [
    "# Number of rows in this DataFrame\n",
    "textFile.count()"
   ]
  },
  {
   "cell_type": "code",
   "execution_count": 9,
   "metadata": {
    "colab": {
     "base_uri": "https://localhost:8080/"
    },
    "id": "j_nvZ0qNDF9-",
    "outputId": "b70543f1-a2d6-4a4f-a74f-1c0f1a0aeaab"
   },
   "outputs": [
    {
     "name": "stdout",
     "output_type": "stream",
     "text": [
      "+---------------------------------------------------------------------------------------------------+\n",
      "|value                                                                                              |\n",
      "+---------------------------------------------------------------------------------------------------+\n",
      "|This directory includes a few sample datasets to get you started.                                  |\n",
      "|                                                                                                   |\n",
      "|*   `california_housing_data*.csv` is California housing data from the 1990 US                     |\n",
      "|    Census; more information is available at:                                                      |\n",
      "|    https://developers.google.com/machine-learning/crash-course/california-housing-data-description|\n",
      "|                                                                                                   |\n",
      "|*   `mnist_*.csv` is a small sample of the                                                         |\n",
      "|    [MNIST database](https://en.wikipedia.org/wiki/MNIST_database), which is                       |\n",
      "|    described at: http://yann.lecun.com/exdb/mnist/                                                |\n",
      "|                                                                                                   |\n",
      "+---------------------------------------------------------------------------------------------------+\n",
      "only showing top 10 rows\n",
      "\n"
     ]
    }
   ],
   "source": [
    "# First rows in this DataFrame\n",
    "textFile.show(10, truncate=False) "
   ]
  },
  {
   "cell_type": "markdown",
   "metadata": {},
   "source": [
    "### json and sql demo"
   ]
  },
  {
   "cell_type": "code",
   "execution_count": 10,
   "metadata": {},
   "outputs": [
    {
     "name": "stdout",
     "output_type": "stream",
     "text": [
      "[\r\n",
      "  {\"Series\":\"I\", \"X\":10.0, \"Y\":8.04},\r\n",
      "  {\"Series\":\"I\", \"X\":8.0, \"Y\":6.95},\r\n",
      "  {\"Series\":\"I\", \"X\":13.0, \"Y\":7.58},\r\n",
      "  {\"Series\":\"I\", \"X\":9.0, \"Y\":8.81},\r\n",
      "  {\"Series\":\"I\", \"X\":11.0, \"Y\":8.33},\r\n",
      "  {\"Series\":\"I\", \"X\":14.0, \"Y\":9.96},\r\n",
      "  {\"Series\":\"I\", \"X\":6.0, \"Y\":7.24},\r\n",
      "  {\"Series\":\"I\", \"X\":4.0, \"Y\":4.26},\r\n",
      "  {\"Series\":\"I\", \"X\":12.0, \"Y\":10.84},\r\n"
     ]
    }
   ],
   "source": [
    "!head sample_data/anscombe.json "
   ]
  },
  {
   "cell_type": "code",
   "execution_count": 11,
   "metadata": {},
   "outputs": [],
   "source": [
    "jsonFile = spark.read.json(\"sample_data/anscombe.json\").createOrReplaceTempView(\"anscombe\")"
   ]
  },
  {
   "cell_type": "code",
   "execution_count": 12,
   "metadata": {},
   "outputs": [
    {
     "name": "stdout",
     "output_type": "stream",
     "text": [
      "+------+----+-----+\n",
      "|Series|   X|    Y|\n",
      "+------+----+-----+\n",
      "|     I|10.0| 8.04|\n",
      "|     I| 8.0| 6.95|\n",
      "|     I|13.0| 7.58|\n",
      "|     I| 9.0| 8.81|\n",
      "|     I|11.0| 8.33|\n",
      "|     I|14.0| 9.96|\n",
      "|     I| 6.0| 7.24|\n",
      "|     I| 4.0| 4.26|\n",
      "|     I|12.0|10.84|\n",
      "|     I| 7.0| 4.81|\n",
      "+------+----+-----+\n",
      "only showing top 10 rows\n",
      "\n"
     ]
    }
   ],
   "source": [
    "spark.sql(\"\"\"SELECT Series, X, Y FROM anscombe WHERE Series = 'I' \"\"\").show(10)"
   ]
  },
  {
   "cell_type": "markdown",
   "metadata": {
    "id": "CINn4yIPLWcV"
   },
   "source": [
    "## 3. Преобразования данных  \n"
   ]
  },
  {
   "cell_type": "markdown",
   "metadata": {
    "id": "dUp4CtJzDh9Q"
   },
   "source": [
    "Now let’s transform this DataFrame to a new one. We call filter to return a new DataFrame with a subset of the lines in the file."
   ]
  },
  {
   "cell_type": "code",
   "execution_count": 13,
   "metadata": {
    "colab": {
     "base_uri": "https://localhost:8080/"
    },
    "id": "U1faTn20DSYj",
    "outputId": "a61ad999-a0bd-4aef-d1be-dc97c3853e1d"
   },
   "outputs": [
    {
     "data": {
      "text/plain": [
       "2"
      ]
     },
     "execution_count": 13,
     "metadata": {},
     "output_type": "execute_result"
    }
   ],
   "source": [
    "linesWithCSV = textFile.filter(textFile.value.contains(\"csv\"))\n",
    "\n",
    "# How many lines contain \"csv\"?\n",
    "linesWithCSV.count()"
   ]
  },
  {
   "cell_type": "code",
   "execution_count": 14,
   "metadata": {
    "id": "E2UgS4IJJHf_"
   },
   "outputs": [],
   "source": [
    "wordCounts = textFile.rdd.flatMap(lambda line: line.value.split(\" \"))\\\n",
    "                      .map(lambda word: (word, 1))\\\n",
    "                      .reduceByKey(lambda a, b: a + b)"
   ]
  },
  {
   "cell_type": "markdown",
   "metadata": {
    "id": "fHjWtM48oni_"
   },
   "source": [
    "Computations are lazy, do nothing while call `.show()`"
   ]
  },
  {
   "cell_type": "code",
   "execution_count": 15,
   "metadata": {
    "colab": {
     "base_uri": "https://localhost:8080/"
    },
    "id": "SK9vPspBnlkr",
    "outputId": "6f15bc0d-72a0-44c3-ab06-5610497fa784"
   },
   "outputs": [
    {
     "name": "stdout",
     "output_type": "stream",
     "text": [
      "+--------------------+---+\n",
      "|                  _1| _2|\n",
      "+--------------------+---+\n",
      "|                This|  1|\n",
      "|           directory|  1|\n",
      "|            includes|  1|\n",
      "|                   a|  3|\n",
      "|                 few|  1|\n",
      "|              sample|  2|\n",
      "|            datasets|  1|\n",
      "|                  to|  1|\n",
      "|                 get|  1|\n",
      "|                 you|  1|\n",
      "|            started.|  1|\n",
      "|                    | 51|\n",
      "|                   *|  3|\n",
      "|`california_housi...|  1|\n",
      "|                  is|  4|\n",
      "|          California|  1|\n",
      "|             housing|  1|\n",
      "|                data|  1|\n",
      "|                from|  1|\n",
      "|                 the|  3|\n",
      "+--------------------+---+\n",
      "only showing top 20 rows\n",
      "\n"
     ]
    }
   ],
   "source": [
    "wordCounts.toDF().show()"
   ]
  },
  {
   "cell_type": "markdown",
   "metadata": {},
   "source": [
    "## Домашнее задание  \n",
    "\n",
    "Повторить ДЗ 1 средствами PySpark. В решении достаточно использовать только map, функцию `white_filter` можно взять из первого ДЗ. "
   ]
  },
  {
   "cell_type": "markdown",
   "metadata": {
    "id": "lG_XwTiWxtIg"
   },
   "source": [
    "## Optional: Cluster mode  \n",
    "\n",
    "Cluster Manager Types  \n",
    "The system currently supports several cluster managers:\n",
    "\n",
    "* Standalone – a simple cluster manager included with Spark that makes it easy to set up a cluster.\n",
    "* Apache Mesos – a general cluster manager that can also run Hadoop MapReduce and service applications. (Deprecated)\n",
    "* Hadoop YARN – the resource manager in Hadoop 2.\n",
    "* Kubernetes – an open-source system for automating deployment, scaling, and management of containerized applications."
   ]
  },
  {
   "cell_type": "markdown",
   "metadata": {
    "id": "TnufRWiBt4Gt"
   },
   "source": [
    "![cluster-overview.png](data:image/png;base64,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)"
   ]
  }
 ],
 "metadata": {
  "colab": {
   "collapsed_sections": [],
   "name": "PySparkColab_1",
   "provenance": []
  },
  "kernelspec": {
   "display_name": "Python 3 (ipykernel)",
   "language": "python",
   "name": "python3"
  },
  "language_info": {
   "codemirror_mode": {
    "name": "ipython",
    "version": 3
   },
   "file_extension": ".py",
   "mimetype": "text/x-python",
   "name": "python",
   "nbconvert_exporter": "python",
   "pygments_lexer": "ipython3",
   "version": "3.8.10"
  }
 },
 "nbformat": 4,
 "nbformat_minor": 1
}
