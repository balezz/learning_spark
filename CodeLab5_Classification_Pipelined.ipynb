{
  "cells": [
    {
      "cell_type": "markdown",
      "metadata": {
        "id": "7uT7DL8R5tSr"
      },
      "source": [
        "# Технологии обработки больших данных\n",
        "\n",
        "## Занятие 5. Машинное обучение в PySpark. Классификация \n",
        "\n",
        "1. Понятие энтропии Шеннона и поставновка задачи классификации\n",
        "2. Классификация с помощью решающих деревьев в pyspark\n",
        "3. Метрики качества\n",
        "4. Работа со строковыми признаками\n",
        "5. Домашнее задание \n",
        "  \n",
        "**Рекомендованная литература:** \n",
        "- Learning Spark 2 edition\n",
        "- [machinelearning.ru](http://www.machinelearning.ru/wiki/index.php?title=%D0%9A%D0%BB%D0%B0%D1%81%D1%81%D0%B8%D1%84%D0%B8%D0%BA%D0%B0%D1%86%D0%B8%D1%8F)\n",
        "- [Open Data Science Mlcourse ч.3](https://habr.com/ru/company/ods/blog/322534/)\n",
        "- [метрики классификации](https://habr.com/ru/company/ods/blog/328372/)"
      ]
    },
    {
      "cell_type": "markdown",
      "metadata": {
        "id": "uFQPMgCl5tSv"
      },
      "source": [
        "## Установка pyspark в изолированой среде venv / conda env !\n",
        "\n",
        "! pip install pyspark"
      ]
    },
    {
      "cell_type": "code",
      "source": [
        "! pip install pyspark"
      ],
      "metadata": {
        "id": "dC2UQrAG5wIS",
        "outputId": "9d98a15c-908e-4a45-a679-baf58efd48ee",
        "colab": {
          "base_uri": "https://localhost:8080/"
        }
      },
      "execution_count": 1,
      "outputs": [
        {
          "output_type": "stream",
          "name": "stdout",
          "text": [
            "Collecting pyspark\n",
            "  Downloading pyspark-3.2.1.tar.gz (281.4 MB)\n",
            "\u001b[K     |████████████████████████████████| 281.4 MB 32 kB/s \n",
            "\u001b[?25hCollecting py4j==0.10.9.3\n",
            "  Downloading py4j-0.10.9.3-py2.py3-none-any.whl (198 kB)\n",
            "\u001b[K     |████████████████████████████████| 198 kB 60.3 MB/s \n",
            "\u001b[?25hBuilding wheels for collected packages: pyspark\n",
            "  Building wheel for pyspark (setup.py) ... \u001b[?25l\u001b[?25hdone\n",
            "  Created wheel for pyspark: filename=pyspark-3.2.1-py2.py3-none-any.whl size=281853642 sha256=e96303bd9352d95f445590a696f9d65c2cde078be3af3acffc4190516313a5b3\n",
            "  Stored in directory: /root/.cache/pip/wheels/9f/f5/07/7cd8017084dce4e93e84e92efd1e1d5334db05f2e83bcef74f\n",
            "Successfully built pyspark\n",
            "Installing collected packages: py4j, pyspark\n",
            "Successfully installed py4j-0.10.9.3 pyspark-3.2.1\n"
          ]
        }
      ]
    },
    {
      "cell_type": "code",
      "execution_count": 2,
      "metadata": {
        "id": "7KBHpoOE5tSw"
      },
      "outputs": [],
      "source": [
        "import pyspark\n",
        "\n",
        "from pyspark.sql import SparkSession\n",
        "spark = SparkSession.builder.master(\"local[*]\").getOrCreate()"
      ]
    },
    {
      "cell_type": "markdown",
      "metadata": {
        "id": "7rfPSVZn5tSy"
      },
      "source": [
        "## 1. Понятие энтропии Шеннона и поставновка задачи классификации"
      ]
    },
    {
      "cell_type": "code",
      "execution_count": 3,
      "metadata": {
        "id": "-xCoRiLy5tSz"
      },
      "outputs": [],
      "source": [
        "import numpy as np\n",
        "import matplotlib.pyplot as plt"
      ]
    },
    {
      "cell_type": "markdown",
      "metadata": {
        "id": "fOSuAPi05tSz"
      },
      "source": [
        "Пусть имеется выборка случайных чисел с равномерным распределением"
      ]
    },
    {
      "cell_type": "code",
      "execution_count": 4,
      "metadata": {
        "scrolled": true,
        "id": "vRjtLiEh5tS0",
        "outputId": "89c5cdfc-c724-4cb9-88d8-2b8c538a192d",
        "colab": {
          "base_uri": "https://localhost:8080/"
        }
      },
      "outputs": [
        {
          "output_type": "stream",
          "name": "stdout",
          "text": [
            "[0 1 0 1 1 1 0 0 1 0 0 0 0 0 0 0 0 0 0 1]\n"
          ]
        }
      ],
      "source": [
        "y = np.random.randint(0, 2, size=(20))\n",
        "print(y)"
      ]
    },
    {
      "cell_type": "markdown",
      "metadata": {
        "id": "m2EznZd85tS1"
      },
      "source": [
        "**Этнтропия Шеннона** - мера упорядоченности выборки (системы).  \n",
        "\n",
        "$$\\Large S = - \\sum_{i=0..N} p_i log_2 p_i$$"
      ]
    },
    {
      "cell_type": "code",
      "execution_count": 5,
      "metadata": {
        "id": "7D4obgc55tS2"
      },
      "outputs": [],
      "source": [
        "def entropy(y):\n",
        "    unique, counts = np.unique(y, return_counts=True)\n",
        "    N = y.size if type(y) == np.ndarray else len(y)\n",
        "    p = counts / N\n",
        "    log_p = np.log(p)\n",
        "    print(f'p = {p}, log_p = {log_p}')\n",
        "    S = - np.sum(p*log_p)\n",
        "    return S"
      ]
    },
    {
      "cell_type": "code",
      "execution_count": 6,
      "metadata": {
        "id": "zbgEiGBV5tS3",
        "outputId": "1492decd-288e-4c34-af71-5158e970cbcb",
        "colab": {
          "base_uri": "https://localhost:8080/"
        }
      },
      "outputs": [
        {
          "output_type": "stream",
          "name": "stdout",
          "text": [
            "p = [0.7 0.3], log_p = [-0.35667494 -1.2039728 ]\n"
          ]
        },
        {
          "output_type": "execute_result",
          "data": {
            "text/plain": [
              "0.6108643020548935"
            ]
          },
          "metadata": {},
          "execution_count": 6
        }
      ],
      "source": [
        "entropy(y)"
      ]
    },
    {
      "cell_type": "markdown",
      "metadata": {
        "id": "TLJ4wZf05tS4"
      },
      "source": [
        "Для полностью упорядоченной системы энтропия равна нулю"
      ]
    },
    {
      "cell_type": "code",
      "execution_count": 7,
      "metadata": {
        "id": "QKYFhdP85tS4",
        "outputId": "85057e8e-da93-41e3-b2ef-85cba025f3a7",
        "colab": {
          "base_uri": "https://localhost:8080/"
        }
      },
      "outputs": [
        {
          "output_type": "stream",
          "name": "stdout",
          "text": [
            "p = [1.], log_p = [0.]\n"
          ]
        },
        {
          "output_type": "execute_result",
          "data": {
            "text/plain": [
              "-0.0"
            ]
          },
          "metadata": {},
          "execution_count": 7
        }
      ],
      "source": [
        "entropy(np.ones(20))"
      ]
    },
    {
      "cell_type": "markdown",
      "metadata": {
        "id": "IOQhGCES5tS4"
      },
      "source": [
        "Чем больше возможных значений случайной величины, тем выше энтропия"
      ]
    },
    {
      "cell_type": "code",
      "execution_count": 8,
      "metadata": {
        "id": "DSkwb4dA5tS5",
        "outputId": "ecd35c6b-8cb0-450c-81fa-183a032954ba",
        "colab": {
          "base_uri": "https://localhost:8080/"
        }
      },
      "outputs": [
        {
          "output_type": "stream",
          "name": "stdout",
          "text": [
            "[ 7  9  8  0  3  0  8  0 10  3  3  2  1  2  3 10  2  3  0  9]\n"
          ]
        }
      ],
      "source": [
        "y = np.random.randint(0, 11, size=(20))\n",
        "print(y)"
      ]
    },
    {
      "cell_type": "code",
      "execution_count": 9,
      "metadata": {
        "id": "zBE4Yxkp5tS5",
        "outputId": "41d7e34e-b405-4ae2-9b3d-f1444494133c",
        "colab": {
          "base_uri": "https://localhost:8080/"
        }
      },
      "outputs": [
        {
          "output_type": "stream",
          "name": "stdout",
          "text": [
            "p = [0.2  0.05 0.15 0.25 0.05 0.1  0.1  0.1 ], log_p = [-1.60943791 -2.99573227 -1.89711998 -1.38629436 -2.99573227 -2.30258509\n",
            " -2.30258509 -2.30258509]\n"
          ]
        },
        {
          "output_type": "execute_result",
          "data": {
            "text/plain": [
              "1.9433779257532877"
            ]
          },
          "metadata": {},
          "execution_count": 9
        }
      ],
      "source": [
        "entropy(y)"
      ]
    },
    {
      "cell_type": "markdown",
      "metadata": {
        "id": "MaGvDbUv5tS6"
      },
      "source": [
        "Пусть `y` не просто случайная величина, а функция от индекса `i` "
      ]
    },
    {
      "cell_type": "code",
      "execution_count": 10,
      "metadata": {
        "id": "Hb175-Yg5tS6",
        "outputId": "a89a9893-f0b0-497b-fd5c-4777f81a6268",
        "colab": {
          "base_uri": "https://localhost:8080/"
        }
      },
      "outputs": [
        {
          "output_type": "stream",
          "name": "stdout",
          "text": [
            "[1. 1. 1. 1. 1. 1. 1. 1. 1. 1. 0. 0. 0. 0. 0. 0. 0. 0. 0. 0.]\n"
          ]
        }
      ],
      "source": [
        "y = np.zeros(20)\n",
        "y[:10] = 1\n",
        "print(y)"
      ]
    },
    {
      "cell_type": "markdown",
      "metadata": {
        "id": "aMgz6xw95tS6"
      },
      "source": [
        "Энтропия по-прежнему не равна 0, т.е. система не упорядочена"
      ]
    },
    {
      "cell_type": "code",
      "execution_count": 11,
      "metadata": {
        "id": "4I-rBrbL5tS7",
        "outputId": "83a3ff59-2aee-4bc9-c2b5-e8938bc97c6f",
        "colab": {
          "base_uri": "https://localhost:8080/"
        }
      },
      "outputs": [
        {
          "output_type": "stream",
          "name": "stdout",
          "text": [
            "p = [0.5 0.5], log_p = [-0.69314718 -0.69314718]\n"
          ]
        },
        {
          "output_type": "execute_result",
          "data": {
            "text/plain": [
              "0.6931471805599453"
            ]
          },
          "metadata": {},
          "execution_count": 11
        }
      ],
      "source": [
        "entropy(y)"
      ]
    },
    {
      "cell_type": "markdown",
      "metadata": {
        "id": "Ax_EOGSF5tS7"
      },
      "source": [
        "Однако, применив правило для разделения выборки на две части `i < 10`, получим две полностью упорядоченные выборки с нулевой энтропией"
      ]
    },
    {
      "cell_type": "code",
      "execution_count": 12,
      "metadata": {
        "id": "a50YHMpg5tS7",
        "outputId": "deee4a06-30b7-4106-dea0-45472df9b2ac",
        "colab": {
          "base_uri": "https://localhost:8080/"
        }
      },
      "outputs": [
        {
          "output_type": "stream",
          "name": "stdout",
          "text": [
            "p = [1.], log_p = [0.]\n",
            "p = [1.], log_p = [0.]\n",
            "-0.0 -0.0\n"
          ]
        }
      ],
      "source": [
        "y1, y2 = [], []\n",
        "\n",
        "for i in range(len(y)):\n",
        "    if i < 10:\n",
        "        y1.append(y[i])\n",
        "    else:\n",
        "        y2.append(y[i])\n",
        "        \n",
        "print(entropy(y1), entropy(y2))"
      ]
    },
    {
      "cell_type": "markdown",
      "metadata": {
        "id": "d_SKszy85tS8"
      },
      "source": [
        "В том случае, если `y` зависит от нескольких переменных, суть задачи не меняется: нужно найти такое правило, которое позволит разделить неупорядоченную выборку на несколько более упорядоченных."
      ]
    },
    {
      "cell_type": "code",
      "execution_count": 13,
      "metadata": {
        "id": "UjvlZ88V5tS8",
        "outputId": "7d647b88-d8bb-4a77-9459-b2994914506f",
        "colab": {
          "base_uri": "https://localhost:8080/",
          "height": 483
        }
      },
      "outputs": [
        {
          "output_type": "display_data",
          "data": {
            "text/plain": [
              "<Figure size 720x576 with 1 Axes>"
            ],
            "image/png": "[encoded data removed]"
          },
          "metadata": {
            "needs_background": "light"
          }
        }
      ],
      "source": [
        "# первый класс\n",
        "np.random.seed(7)\n",
        "train_data = np.random.normal(size=(100, 2))\n",
        "train_labels = np.zeros(100)\n",
        "\n",
        "# добавляем второй класс\n",
        "train_data = np.r_[train_data, np.random.normal(size=(100, 2), loc=2)]\n",
        "train_labels = np.r_[train_labels, np.ones(100)]\n",
        "\n",
        "plt.rcParams['figure.figsize'] = (10,8)\n",
        "plt.scatter(train_data[:, 0], train_data[:, 1], c=train_labels, s=100, \n",
        "cmap='autumn', edgecolors='black', linewidth=1.5);\n",
        "plt.plot(range(-2,5), range(4,-3,-1));"
      ]
    },
    {
      "cell_type": "markdown",
      "metadata": {
        "id": "2x9-9Fau5tS9"
      },
      "source": [
        "Проблема решающих деревьев в том, что разделяющая граница может строится только по одному признаку за раз.  \n",
        "Решение - использовать деревья большой глубины."
      ]
    },
    {
      "cell_type": "markdown",
      "metadata": {
        "id": "9qjzL5Sv5tS9"
      },
      "source": [
        "## 2. Классификация с помощью решающих деревьев в pyspark"
      ]
    },
    {
      "cell_type": "markdown",
      "metadata": {
        "id": "yBqfmdNe5tS9"
      },
      "source": [
        "**Columns**  \n",
        "\n",
        "Age - возраст (numeric)  \n",
        "Sex - пол (text: male, female)  \n",
        "Job - уровень рабочей квалификации (numeric: 0 - unskilled and non-resident, 1 - unskilled and resident, 2 - skilled, 3 - highly skilled)  \n",
        "Housing - жилье (text: own, rent, or free)  \n",
        "Saving accounts - накопления (text - little, moderate, quite rich, rich)  \n",
        "Checking account - средние траты (numeric, in DM - Deutsch Mark)  \n",
        "Credit amount - размер кредита (numeric, in DM)  \n",
        "Duration - срок кредита (numeric, in month)  \n",
        "Purpose - цель кредита (text: car, furniture/equipment, radio/TV, domestic appliances, repairs, education, business, vacation/others)  \n",
        "Risk - признак невозврата кредита"
      ]
    },
    {
      "cell_type": "code",
      "execution_count": 17,
      "metadata": {
        "id": "SB25arkj5tS9"
      },
      "outputs": [],
      "source": [
        "from pyspark.ml.classification import DecisionTreeClassifier\n",
        "from pyspark.ml.feature import StringIndexer, VectorIndexer, VectorAssembler\n",
        "from pyspark.sql.functions import col, when\n",
        "\n",
        "data_path = 'sample_data/german_credit_data.csv'"
      ]
    },
    {
      "cell_type": "code",
      "execution_count": 18,
      "metadata": {
        "id": "vS14ImhS5tS-"
      },
      "outputs": [],
      "source": [
        "df = spark.read.format('csv').\\\n",
        "        options(header='true', inferschema='true').load(data_path,header=True)\n",
        "\n",
        "# Добавляем числовую переменную у с помощью фунций when, col\n",
        "df = df.withColumn('y', when(col('Risk')=='bad', 1).otherwise(0))"
      ]
    },
    {
      "cell_type": "code",
      "execution_count": 19,
      "metadata": {
        "id": "0TJKnZgG5tS-",
        "outputId": "aaf011f2-b0bf-43d6-d5a3-3ef749668932",
        "colab": {
          "base_uri": "https://localhost:8080/"
        }
      },
      "outputs": [
        {
          "output_type": "stream",
          "name": "stdout",
          "text": [
            "+---+---+------+---+-------+---------------+----------------+-------------+--------+-------------------+----+---+\n",
            "|_c0|Age|   Sex|Job|Housing|Saving accounts|Checking account|Credit amount|Duration|            Purpose|Risk|  y|\n",
            "+---+---+------+---+-------+---------------+----------------+-------------+--------+-------------------+----+---+\n",
            "|  0| 67|  male|  2|    own|             NA|          little|         1169|       6|           radio/TV|good|  0|\n",
            "|  1| 22|female|  2|    own|         little|        moderate|         5951|      48|           radio/TV| bad|  1|\n",
            "|  2| 49|  male|  1|    own|         little|              NA|         2096|      12|          education|good|  0|\n",
            "|  3| 45|  male|  2|   free|         little|          little|         7882|      42|furniture/equipment|good|  0|\n",
            "|  4| 53|  male|  2|   free|         little|          little|         4870|      24|                car| bad|  1|\n",
            "+---+---+------+---+-------+---------------+----------------+-------------+--------+-------------------+----+---+\n",
            "only showing top 5 rows\n",
            "\n"
          ]
        }
      ],
      "source": [
        "df.show(5)"
      ]
    },
    {
      "cell_type": "code",
      "execution_count": 20,
      "metadata": {
        "id": "NTHSCxwa5tS-",
        "outputId": "5bca42c6-35f4-437f-f09a-3988a5a75c98",
        "colab": {
          "base_uri": "https://localhost:8080/"
        }
      },
      "outputs": [
        {
          "output_type": "stream",
          "name": "stdout",
          "text": [
            "root\n",
            " |-- _c0: integer (nullable = true)\n",
            " |-- Age: integer (nullable = true)\n",
            " |-- Sex: string (nullable = true)\n",
            " |-- Job: integer (nullable = true)\n",
            " |-- Housing: string (nullable = true)\n",
            " |-- Saving accounts: string (nullable = true)\n",
            " |-- Checking account: string (nullable = true)\n",
            " |-- Credit amount: integer (nullable = true)\n",
            " |-- Duration: integer (nullable = true)\n",
            " |-- Purpose: string (nullable = true)\n",
            " |-- Risk: string (nullable = true)\n",
            " |-- y: integer (nullable = false)\n",
            "\n"
          ]
        }
      ],
      "source": [
        "df.printSchema()"
      ]
    },
    {
      "cell_type": "markdown",
      "metadata": {
        "id": "bYRX-g1M5tS-"
      },
      "source": [
        "Для начала попробуем предсказывать риск невозврата с помощью двух переменных - возраста заемщика и размера кредита."
      ]
    },
    {
      "cell_type": "code",
      "execution_count": 21,
      "metadata": {
        "id": "zQeOiN4M5tS_",
        "outputId": "f2d9d583-8018-4bdc-b07c-d2a05ec4a9a2",
        "colab": {
          "base_uri": "https://localhost:8080/"
        }
      },
      "outputs": [
        {
          "output_type": "stream",
          "name": "stdout",
          "text": [
            "+---+-------------+-------------+----+---+\n",
            "|Age|Credit amount|     Features|Risk|  y|\n",
            "+---+-------------+-------------+----+---+\n",
            "| 67|         1169|[67.0,1169.0]|good|  0|\n",
            "| 22|         5951|[22.0,5951.0]| bad|  1|\n",
            "| 49|         2096|[49.0,2096.0]|good|  0|\n",
            "| 45|         7882|[45.0,7882.0]|good|  0|\n",
            "| 53|         4870|[53.0,4870.0]| bad|  1|\n",
            "+---+-------------+-------------+----+---+\n",
            "only showing top 5 rows\n",
            "\n"
          ]
        }
      ],
      "source": [
        "feature_vec = VectorAssembler(inputCols=['Age', 'Credit amount'], outputCol='Features')\n",
        "vec_df = feature_vec.transform(df)\n",
        "vec_df.select('Age', 'Credit amount', 'Features', 'Risk', 'y').show(5)"
      ]
    },
    {
      "cell_type": "code",
      "execution_count": 22,
      "metadata": {
        "id": "SSvUlRdp5tS_",
        "outputId": "bf97eb01-1f3a-4a88-f3e0-5407172198ed",
        "colab": {
          "base_uri": "https://localhost:8080/"
        }
      },
      "outputs": [
        {
          "output_type": "stream",
          "name": "stdout",
          "text": [
            "+---+-------------+---+----------+\n",
            "|Age|Credit amount|  y|prediction|\n",
            "+---+-------------+---+----------+\n",
            "| 49|         2096|  0|       0.0|\n",
            "| 53|         2835|  0|       0.0|\n",
            "| 61|         3059|  0|       0.0|\n",
            "| 60|         1199|  1|       0.0|\n",
            "| 31|         3430|  0|       0.0|\n",
            "| 44|         1804|  0|       0.0|\n",
            "| 63|         6836|  1|       0.0|\n",
            "| 25|         4746|  1|       0.0|\n",
            "| 35|         1393|  0|       0.0|\n",
            "| 39|         2299|  0|       0.0|\n",
            "| 23|         1352|  0|       0.0|\n",
            "| 28|         2073|  0|       0.0|\n",
            "| 30|         5965|  0|       0.0|\n",
            "| 26|          783|  0|       0.0|\n",
            "| 61|         1953|  1|       0.0|\n",
            "| 25|         2394|  0|       0.0|\n",
            "| 51|         4771|  0|       1.0|\n",
            "| 41|         1469|  0|       0.0|\n",
            "| 28|         6260|  0|       0.0|\n",
            "| 30|         7174|  1|       0.0|\n",
            "+---+-------------+---+----------+\n",
            "only showing top 20 rows\n",
            "\n"
          ]
        }
      ],
      "source": [
        "trainDF, testDF = vec_df.randomSplit([.8, .2], seed=42)\n",
        "\n",
        "tree_cls = DecisionTreeClassifier(labelCol=\"y\", featuresCol=\"Features\")\n",
        "model = tree_cls.fit(trainDF)\n",
        "\n",
        "predDF = model.transform(testDF)\n",
        "predDF.select('Age', 'Credit amount', 'y', 'prediction').show()"
      ]
    },
    {
      "cell_type": "markdown",
      "metadata": {
        "id": "2rlqOzbg5tS_"
      },
      "source": [
        "## 3. Метрики качества классификации"
      ]
    },
    {
      "cell_type": "code",
      "execution_count": 23,
      "metadata": {
        "id": "fAjONTEn5tS_"
      },
      "outputs": [],
      "source": [
        "correct = predDF['y'] == predDF['prediction']"
      ]
    },
    {
      "cell_type": "markdown",
      "metadata": {
        "id": "INoPG0qS5tTA"
      },
      "source": [
        "**Accuracy** - доля правильных ответов. К сожалению, эта метрика бесполезна в задачах с неравными классами."
      ]
    },
    {
      "cell_type": "code",
      "execution_count": 24,
      "metadata": {
        "id": "E4ThYL5z5tTA",
        "outputId": "b1fdcec6-1446-476a-856a-f34d93984393",
        "colab": {
          "base_uri": "https://localhost:8080/"
        }
      },
      "outputs": [
        {
          "output_type": "execute_result",
          "data": {
            "text/plain": [
              "0.654320987654321"
            ]
          },
          "metadata": {},
          "execution_count": 24
        }
      ],
      "source": [
        "predDF.filter(correct).count() / predDF.count()"
      ]
    },
    {
      "cell_type": "markdown",
      "metadata": {
        "id": "YsCsVeVW5tTA"
      },
      "source": [
        "Если всегда предсказывать нули, то получим большее значение Accuracy"
      ]
    },
    {
      "cell_type": "code",
      "execution_count": 25,
      "metadata": {
        "id": "KLQN4WlG5tTA",
        "outputId": "1ba937a9-e4f1-4697-aa1f-ea531296c0cf",
        "colab": {
          "base_uri": "https://localhost:8080/"
        }
      },
      "outputs": [
        {
          "output_type": "execute_result",
          "data": {
            "text/plain": [
              "0.6604938271604939"
            ]
          },
          "metadata": {},
          "execution_count": 25
        }
      ],
      "source": [
        "predDF.filter(predDF.y == 0).count() / predDF.count()"
      ]
    },
    {
      "cell_type": "markdown",
      "metadata": {
        "id": "0ZZndlV05tTA"
      },
      "source": [
        "Для оценки качества работы алгоритма на каждом из классов по отдельности используются метрики precision (точность) и recall (полнота)."
      ]
    },
    {
      "cell_type": "markdown",
      "metadata": {
        "id": "RcjgME7D5tTB"
      },
      "source": [
        "$$\\large precision = \\frac{TP}{TP + FP}$$  \n",
        "\n",
        "\n",
        "$$\\large recall = \\frac{TP}{TP + FN}$$"
      ]
    },
    {
      "cell_type": "code",
      "execution_count": 26,
      "metadata": {
        "id": "DxgnIHfA5tTB",
        "outputId": "841df759-9386-41a6-c4a5-40befb9decf0",
        "colab": {
          "base_uri": "https://localhost:8080/"
        }
      },
      "outputs": [
        {
          "output_type": "stream",
          "name": "stdout",
          "text": [
            "+---+-------------+---+----------+-------+\n",
            "|Age|Credit amount|  y|prediction|confuse|\n",
            "+---+-------------+---+----------+-------+\n",
            "| 49|         2096|  0|       0.0|     TN|\n",
            "| 53|         2835|  0|       0.0|     TN|\n",
            "| 61|         3059|  0|       0.0|     TN|\n",
            "| 60|         1199|  1|       0.0|     FN|\n",
            "| 31|         3430|  0|       0.0|     TN|\n",
            "| 44|         1804|  0|       0.0|     TN|\n",
            "| 63|         6836|  1|       0.0|     FN|\n",
            "| 25|         4746|  1|       0.0|     FN|\n",
            "| 35|         1393|  0|       0.0|     TN|\n",
            "| 39|         2299|  0|       0.0|     TN|\n",
            "| 23|         1352|  0|       0.0|     TN|\n",
            "| 28|         2073|  0|       0.0|     TN|\n",
            "| 30|         5965|  0|       0.0|     TN|\n",
            "| 26|          783|  0|       0.0|     TN|\n",
            "| 61|         1953|  1|       0.0|     FN|\n",
            "| 25|         2394|  0|       0.0|     TN|\n",
            "| 51|         4771|  0|       1.0|     FP|\n",
            "| 41|         1469|  0|       0.0|     TN|\n",
            "| 28|         6260|  0|       0.0|     TN|\n",
            "| 30|         7174|  1|       0.0|     FN|\n",
            "+---+-------------+---+----------+-------+\n",
            "only showing top 20 rows\n",
            "\n"
          ]
        }
      ],
      "source": [
        "predDF = predDF.withColumn('confuse', \n",
        "                           when( (predDF.y == 1) & (predDF.prediction == 1.0), 'TP' ).\\\n",
        "                           when( (predDF.y == 0) & (predDF.prediction == 0.0), 'TN' ).\\\n",
        "                           when( (predDF.y == 0) & (predDF.prediction == 1.0), 'FP' ).\\\n",
        "                           when( (predDF.y == 1) & (predDF.prediction == 0.0), 'FN' )\\\n",
        "                            .otherwise('None') \n",
        "                          )\n",
        "predDF.select('Age', 'Credit amount', 'y', 'prediction', 'confuse').show()"
      ]
    },
    {
      "cell_type": "code",
      "execution_count": 27,
      "metadata": {
        "id": "EMxXm-qD5tTB"
      },
      "outputs": [],
      "source": [
        "def print_metrics(predDF):\n",
        "    predDF = predDF.withColumn('confuse', \n",
        "                               when( (predDF.y == 1) & (predDF.prediction == 1.0), 'TP' ).\\\n",
        "                               when( (predDF.y == 0) & (predDF.prediction == 0.0), 'TN' ).\\\n",
        "                               when( (predDF.y == 0) & (predDF.prediction == 1.0), 'FP' ).\\\n",
        "                               when( (predDF.y == 1) & (predDF.prediction == 0.0), 'FN' )\\\n",
        "                                .otherwise('None') \n",
        "                              )\n",
        "    print('Precision: ', predDF.filter(predDF.confuse == 'TP').count() / (\n",
        "        predDF.filter(predDF.confuse == 'TP').count() + predDF.filter(predDF.confuse == 'FP').count() ))\n",
        "\n",
        "    print('Recall: ',  predDF.filter(predDF.confuse == 'TP').count() / (\n",
        "        predDF.filter(predDF.confuse == 'TP').count() + predDF.filter(predDF.confuse == 'FN').count() ))"
      ]
    },
    {
      "cell_type": "code",
      "execution_count": 28,
      "metadata": {
        "id": "ZKuW0YAg5tTB",
        "outputId": "2d5bc222-f24e-402d-a0cf-e3ea5f92494b",
        "colab": {
          "base_uri": "https://localhost:8080/"
        }
      },
      "outputs": [
        {
          "output_type": "stream",
          "name": "stdout",
          "text": [
            "Precision:  0.42857142857142855\n",
            "Recall:  0.05454545454545454\n"
          ]
        }
      ],
      "source": [
        "print_metrics(predDF)"
      ]
    },
    {
      "cell_type": "markdown",
      "metadata": {
        "id": "q6XV3EXK5tTB"
      },
      "source": [
        "## 4. Feature engineering"
      ]
    },
    {
      "cell_type": "code",
      "execution_count": 29,
      "metadata": {
        "id": "aGx73G-r5tTB"
      },
      "outputs": [],
      "source": [
        "# String to number features\n",
        "df = df.withColumn('Savings', \n",
        "                   when(col('Saving accounts')=='rich', 4).\\\n",
        "                   when(col('Saving accounts')=='quite rich', 3).\\\n",
        "                   when(col('Saving accounts')=='moderate', 2).\\\n",
        "                   when(col('Saving accounts')=='little', 1).\\\n",
        "                   otherwise(0))\n",
        "\n",
        "# One hot encoding\n",
        "df = df.withColumn('Purpose_1', \n",
        "                   when(col('Purpose')=='radio/TV', 1).\\\n",
        "                   otherwise(0))\n",
        "\n",
        "inputCols = ['Age', 'Credit amount', 'Savings', 'Purpose_1']\n",
        "\n",
        "feature_vec = VectorAssembler(inputCols=inputCols, outputCol='Features')\n",
        "tree_cls = DecisionTreeClassifier(labelCol=\"y\", featuresCol=\"Features\", maxDepth=5)\n"
      ]
    },
    {
      "cell_type": "code",
      "execution_count": 30,
      "metadata": {
        "id": "4M5e5Lme5tTC",
        "outputId": "bdfe38de-79f0-4e21-b77b-8c61d46245c6",
        "colab": {
          "base_uri": "https://localhost:8080/"
        }
      },
      "outputs": [
        {
          "output_type": "stream",
          "name": "stdout",
          "text": [
            "Precision:  0.48\n",
            "Recall:  0.21818181818181817\n"
          ]
        }
      ],
      "source": [
        "vec_df = feature_vec.transform(df)\n",
        "trainDF, testDF = vec_df.randomSplit([.8, .2], seed=42)\n",
        "model = tree_cls.fit(trainDF)\n",
        "predDF = model.transform(testDF)\n",
        "print_metrics(predDF)"
      ]
    },
    {
      "cell_type": "markdown",
      "metadata": {
        "id": "ge-KJfGx5tTC"
      },
      "source": [
        "## 5. Домашнее задание "
      ]
    },
    {
      "cell_type": "markdown",
      "metadata": {
        "id": "EKIKwlmo5tTC"
      },
      "source": [
        "С помощью выбора признаков и максимальной глубины деревьев добейтесь **Precision > 0.5 and Recall > 0.5**"
      ]
    },
    {
      "cell_type": "code",
      "execution_count": 96,
      "metadata": {
        "id": "GnnGmKbV5tTC",
        "outputId": "ded282b7-22c9-431b-be95-93a057bf2801",
        "colab": {
          "base_uri": "https://localhost:8080/"
        }
      },
      "outputs": [
        {
          "output_type": "stream",
          "name": "stdout",
          "text": [
            "+---+---+------+---+-------+---------------+----------------+-------------+--------+---------+----+---+\n",
            "|_c0|Age|   Sex|Job|Housing|Saving accounts|Checking account|Credit amount|Duration|  Purpose|Risk|  y|\n",
            "+---+---+------+---+-------+---------------+----------------+-------------+--------+---------+----+---+\n",
            "|  0| 67|  male|  2|    own|             NA|          little|         1169|       6| radio/TV|good|  0|\n",
            "|  1| 22|female|  2|    own|         little|        moderate|         5951|      48| radio/TV| bad|  1|\n",
            "|  2| 49|  male|  1|    own|         little|              NA|         2096|      12|education|good|  0|\n",
            "+---+---+------+---+-------+---------------+----------------+-------------+--------+---------+----+---+\n",
            "only showing top 3 rows\n",
            "\n"
          ]
        }
      ],
      "source": [
        "df = spark.read.format('csv').\\\n",
        "        options(header='true', inferschema='true').load(data_path,header=True)\n",
        "df = df.withColumn('y', when(col('Risk')=='bad', 1).otherwise(0))\n",
        "df.show(3)"
      ]
    },
    {
      "cell_type": "code",
      "source": [
        "df = df.withColumn('Savings_num', \n",
        "                   when(col('Saving accounts')=='rich', 4).\\\n",
        "                   when(col('Saving accounts')=='quite rich', 3).\\\n",
        "                   when(col('Saving accounts')=='moderate', 2).\\\n",
        "                   when(col('Saving accounts')=='little', 1).\\\n",
        "                   otherwise(0))\n",
        "\n",
        "df = df.withColumn('House_num', \n",
        "                   when(col('Housing')=='own', 3).\\\n",
        "                   when(col('Housing')=='rent', 2).\\\n",
        "                   when(col('Housing')=='free', 1).\\\n",
        "                   otherwise(0))\n",
        "\n",
        "df = df.withColumn('Checkings_num', \n",
        "                   when(col('Checking account')=='rich', 4).\\\n",
        "                   when(col('Checking account')=='NA', 3).\\\n",
        "                   when(col('Checking account')=='moderate', 2).\\\n",
        "                   when(col('Checking account')=='little', 1).\\\n",
        "                   otherwise(0))\n"
      ],
      "metadata": {
        "id": "Mc_tmEzXGFHi"
      },
      "execution_count": 97,
      "outputs": []
    },
    {
      "cell_type": "code",
      "source": [
        "trainDF, testDF = df.randomSplit([.8, .2], seed=42)"
      ],
      "metadata": {
        "id": "K5wZKGuJAwxD"
      },
      "execution_count": 98,
      "outputs": []
    },
    {
      "cell_type": "code",
      "source": [
        "from pyspark.ml.feature import OneHotEncoder, StringIndexer\n",
        "from pyspark.ml import Pipeline\n",
        "\n",
        "oheCols = ['Purpose', 'Sex']\n",
        "\n",
        "indexOutputCols = ['Purpose_Index', 'Sex_Index']\n",
        "oheOutputCols = [\"Purpose_OHE\"]\n",
        "\n",
        "stringIndexer = StringIndexer(inputCols=oheCols,\n",
        "        outputCols=indexOutputCols,\n",
        "        handleInvalid=\"skip\")\n",
        "\n",
        "oheEncoder = OneHotEncoder(inputCols=['Purpose_Index'],\n",
        "                           outputCols=oheOutputCols)\n"
      ],
      "metadata": {
        "id": "ZBJ3s20oAiCK"
      },
      "execution_count": 99,
      "outputs": []
    },
    {
      "cell_type": "code",
      "source": [
        "numeric_cols = ['Age', 'Job', 'Credit amount', 'Duration', 'Savings_num', \n",
        "                'House_num', 'Checkings_num', 'Sex_Index']\n",
        "\n",
        "inputCols = oheOutputCols + numeric_cols\n",
        "\n",
        "feature_vec = VectorAssembler(inputCols=inputCols, outputCol='Features')\n",
        "tree_cls = DecisionTreeClassifier(labelCol=\"y\", featuresCol=\"Features\", maxDepth=9)"
      ],
      "metadata": {
        "id": "obO175WpE2wP"
      },
      "execution_count": 103,
      "outputs": []
    },
    {
      "cell_type": "code",
      "source": [
        "for d in range(15, 20):\n",
        "tree_cls = DecisionTreeClassifier(labelCol=\"y\", featuresCol=\"Features\", maxDepth=d)\n",
        "  pipeline = Pipeline(stages=[stringIndexer, oheEncoder, feature_vec, tree_cls])\n",
        "  pipelineModel = pipeline.fit(trainDF)\n",
        "  predDF = pipelineModel.transform(testDF)\n",
        "  print(f'Depth = {d}')\n",
        "  print_metrics(predDF)"
      ],
      "metadata": {
        "id": "rlgzL5pxFvdf",
        "outputId": "918b83b8-b52e-46d1-a1dc-f3baec6f152a",
        "colab": {
          "base_uri": "https://localhost:8080/"
        }
      },
      "execution_count": 109,
      "outputs": [
        {
          "output_type": "stream",
          "name": "stdout",
          "text": [
            "Depth = 15\n",
            "Precision:  0.5882352941176471\n",
            "Recall:  0.5454545454545454\n",
            "Depth = 16\n",
            "Precision:  0.58\n",
            "Recall:  0.5272727272727272\n",
            "Depth = 17\n",
            "Precision:  0.5882352941176471\n",
            "Recall:  0.5454545454545454\n",
            "Depth = 18\n",
            "Precision:  0.58\n",
            "Recall:  0.5272727272727272\n",
            "Depth = 19\n",
            "Precision:  0.5869565217391305\n",
            "Recall:  0.4909090909090909\n"
          ]
        }
      ]
    },
    {
      "cell_type": "code",
      "execution_count": 105,
      "metadata": {
        "id": "zqsltAz65tTD",
        "outputId": "9d1f2e2d-4d0a-4006-c97c-48938e7a1de5",
        "colab": {
          "base_uri": "https://localhost:8080/"
        }
      },
      "outputs": [
        {
          "output_type": "stream",
          "name": "stdout",
          "text": [
            "Precision:  0.6458333333333334\n",
            "Recall:  0.5636363636363636\n"
          ]
        }
      ],
      "source": [
        "print_metrics(predDF)"
      ]
    }
  ],
  "metadata": {
    "colab": {
      "collapsed_sections": [],
      "name": "PySparkColab_1",
      "provenance": []
    },
    "kernelspec": {
      "display_name": "Python 3 (ipykernel)",
      "language": "python",
      "name": "python3"
    },
    "language_info": {
      "codemirror_mode": {
        "name": "ipython",
        "version": 3
      },
      "file_extension": ".py",
      "mimetype": "text/x-python",
      "name": "python",
      "nbconvert_exporter": "python",
      "pygments_lexer": "ipython3",
      "version": "3.8.10"
    }
  },
  "nbformat": 4,
  "nbformat_minor": 0
}